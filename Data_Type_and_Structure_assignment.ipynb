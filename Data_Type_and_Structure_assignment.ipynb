{
  "nbformat": 4,
  "nbformat_minor": 0,
  "metadata": {
    "colab": {
      "provenance": [],
      "authorship_tag": "ABX9TyNFdC8007WAKs0vEcit5o9F",
      "include_colab_link": true
    },
    "kernelspec": {
      "name": "python3",
      "display_name": "Python 3"
    },
    "language_info": {
      "name": "python"
    }
  },
  "cells": [
    {
      "cell_type": "markdown",
      "metadata": {
        "id": "view-in-github",
        "colab_type": "text"
      },
      "source": [
        "<a href=\"https://colab.research.google.com/github/HeySonu29/PythonAssignment/blob/main/Data_Type_and_Structure_assignment.ipynb\" target=\"_parent\"><img src=\"https://colab.research.google.com/assets/colab-badge.svg\" alt=\"Open In Colab\"/></a>"
      ]
    },
    {
      "cell_type": "code",
      "execution_count": null,
      "metadata": {
        "id": "7vuUKRM3-lOt"
      },
      "outputs": [],
      "source": []
    },
    {
      "cell_type": "markdown",
      "source": [
        "#1.What are data structures, and why are they important?\n",
        "Data structure is an organised way of collecting storing and accessing the data efficiently. There are two types of it. Built in Structures as lists, tuple and Sets etc and Custom structrures such as stacks, queues and graphs etc.\n",
        "\n",
        "They are important because understanding the data structure is crucial for writing efficient and scalable Python programs, choice of data structure impacts the performance of the code significantly."
      ],
      "metadata": {
        "id": "XGe0GTZz-ypR"
      }
    },
    {
      "cell_type": "code",
      "source": [],
      "metadata": {
        "id": "Xqvu4xOvBhFu"
      },
      "execution_count": null,
      "outputs": []
    },
    {
      "cell_type": "markdown",
      "source": [
        "#2.Explain the difference between mutable and immutable data types with examples?\n",
        "\n",
        "Mutalble data types are the ones that can be altered or modified whereas the immutable data types can not be modified.\n",
        "\n",
        "Examples of Mutable data types are lists,dictionaries and sets whereas example of immutable data types are strings and tuples.\n"
      ],
      "metadata": {
        "id": "Qdhne5V-Bh-X"
      }
    },
    {
      "cell_type": "code",
      "source": [],
      "metadata": {
        "id": "vW7LP24tC4zs"
      },
      "execution_count": null,
      "outputs": []
    },
    {
      "cell_type": "markdown",
      "source": [
        "#What are the main differences between lists and tuples in Python?\n",
        "\n",
        "Lists are ordered changable collection of items where you can remove, add or append the items inside this data type whereas tuple is also an ordered collection of items but it is immutable and does not allow changes in its data type. Also as compared to lists, it has very fewer built in methods like count()and index()"
      ],
      "metadata": {
        "id": "r1JamOtZDGY3"
      }
    },
    {
      "cell_type": "code",
      "source": [],
      "metadata": {
        "id": "sciFyaUIEpZg"
      },
      "execution_count": null,
      "outputs": []
    },
    {
      "cell_type": "markdown",
      "source": [
        "#Describe how dictionaries store data\n",
        "\n",
        "Dictionaries basicly set up a key and its values.Dictionaries organize data in pairs, where each pair consists of a unique key and a corresponding value. For example, in the key column you enter the object and in the value column you enter what does it refer to.\n",
        "Syntax-\n",
        "Dictionary={Name:'Rahul', Place:'Gorakhpur'}\n"
      ],
      "metadata": {
        "id": "mR7deWn0Ep4N"
      }
    },
    {
      "cell_type": "markdown",
      "source": [
        "#Why might you use a set instead of a list in Python?\n",
        "\n",
        "Sets can be used instead of list when we want to avoid duplicacy of the item as the set does not support duplicacy, set is useful in the situation where you want to compare one set of items to another without caring about order or duplicates.\n",
        "\n"
      ],
      "metadata": {
        "id": "8DLvHbYPHBrD"
      }
    },
    {
      "cell_type": "markdown",
      "source": [],
      "metadata": {
        "id": "3J2ewKVCHAhL"
      }
    },
    {
      "cell_type": "code",
      "source": [],
      "metadata": {
        "id": "JUuuXNMQGaUI"
      },
      "execution_count": null,
      "outputs": []
    },
    {
      "cell_type": "markdown",
      "source": [
        "#What is a string in Python, and how is it different from a list?\n",
        "\n",
        "String is a collection of immutable text characters and used inside the \"\" or '' and it is immutable in nature whereas as discussed above list is collection of organised collection of items that allows duplicacy and it is mutable."
      ],
      "metadata": {
        "id": "IZ0bIKWgJB46"
      }
    },
    {
      "cell_type": "markdown",
      "source": [
        "#How do tuples ensure data integrity in Python?\n",
        "\n",
        "\n",
        "Tuples restricts the ability to make an alteration in its collection of items ensuring that data would remain intergrated.\n",
        "\n",
        "\n"
      ],
      "metadata": {
        "id": "k75hNlaTKKPB"
      }
    },
    {
      "cell_type": "markdown",
      "source": [
        "#What is a hash table, and how does it relate to dictionaries in Python?\n",
        "\n",
        "In Python, the Dictionary data types represent the implementation of hash tables. The Keys in the dictionary are hashable–they are generated by a hash function which generates a unique result for each unique value supplied to the hash function."
      ],
      "metadata": {
        "id": "Jt64pHkpKEl5"
      }
    },
    {
      "cell_type": "markdown",
      "source": [
        "#Can lists contain different data types in Python?\n",
        "Yes, lists in Python can contain elements of different data types and it is one of the main charactertists of data type.\n",
        "\n",
        "For example, a single Python list can contain integers, floats, strings, booleans, and even other lists or complex data structures like dictionaries and tuples."
      ],
      "metadata": {
        "id": "4Q0ByByyb1LS"
      }
    },
    {
      "cell_type": "markdown",
      "source": [],
      "metadata": {
        "id": "O2O63_PXbuhy"
      }
    },
    {
      "cell_type": "markdown",
      "source": [
        "#Explain why strings are immutable in Python?\n",
        "Strings are immutable to ensure data integreity.If strings are not made immutable, then there could be a serious security threat to the application. For example, usernames and passwords are stored in Strings."
      ],
      "metadata": {
        "id": "hcg4qK9XcZIk"
      }
    },
    {
      "cell_type": "markdown",
      "source": [
        "#What advantages do dictionaries offer over lists for certain tasks?\n",
        "Dictionaries in Python offer fast data retrieval: Unlike lists where you have to traverse through each element to find a value, dictionaries use hash tables for quick access to values based on keys."
      ],
      "metadata": {
        "id": "thSt3dHhdW5b"
      }
    },
    {
      "cell_type": "markdown",
      "source": [
        "#Describe a scenario where using a tuple would be preferable over a list?\n",
        " Tuple would be preferred in scenario where we want the items to remain unchanged to protect the data integrity. For example- User id and password.\n",
        " Since this information should not be accidentally modified during program execution, using a tuple provides an extra layer of protection."
      ],
      "metadata": {
        "id": "E4tXRs44eBMB"
      }
    },
    {
      "cell_type": "markdown",
      "source": [
        "#How do sets handle duplicate values in Python?\n",
        "\n",
        "In Python, sets automatically eliminate duplicate values. When you add elements to a set, any duplicates are ignored, and only unique elements are stored.\n",
        "Example as below-\n"
      ],
      "metadata": {
        "id": "a9DiteUBWQhi"
      }
    },
    {
      "cell_type": "code",
      "source": [
        "my_set = {1, 2, 2, 3, 4, 4, 4}\n",
        "print(my_set)\n",
        "\n"
      ],
      "metadata": {
        "colab": {
          "base_uri": "https://localhost:8080/"
        },
        "id": "SMEYHJGtXgHq",
        "outputId": "91e9a14a-b809-4a52-eec6-9bbaf830bcb8"
      },
      "execution_count": null,
      "outputs": [
        {
          "output_type": "stream",
          "name": "stdout",
          "text": [
            "{1, 2, 3, 4}\n"
          ]
        }
      ]
    },
    {
      "cell_type": "markdown",
      "source": [
        "\n",
        "\n",
        "\n",
        "\n",
        "\n"
      ],
      "metadata": {
        "id": "927nsOtYXqhJ"
      }
    },
    {
      "cell_type": "code",
      "source": [
        "#How does the “in” keyword work differently for lists and dictionaries?\n",
        "\n",
        "#For lists: in checks whether a value exists in the list.\n",
        "\n",
        "my_list = [1, 2, 3]\n",
        "print(2 in my_list)\n",
        "print(5 in my_list)\n",
        "\n",
        "#For dictionaries:in checks whether a key exists, not the values.\n",
        "my_dict = {'a': 1, 'b': 2}\n",
        "print('a' in my_dict)\n",
        "print(1 in my_dict)\n"
      ],
      "metadata": {
        "colab": {
          "base_uri": "https://localhost:8080/"
        },
        "id": "3AgfEk_AYCb6",
        "outputId": "4e08fa7a-6de1-409d-e436-00e4f8e2071f"
      },
      "execution_count": null,
      "outputs": [
        {
          "output_type": "stream",
          "name": "stdout",
          "text": [
            "True\n",
            "False\n",
            "True\n",
            "False\n"
          ]
        }
      ]
    },
    {
      "cell_type": "markdown",
      "source": [
        "#Can you modify the elements of a tuple? Explain why or why not?\n",
        "\n",
        "No, elements of tuple can not be modified as they are immutable in nature and does not allow modification in the data set in order to ensure the data integrity.\n"
      ],
      "metadata": {
        "id": "0HYKP8jBeoEp"
      }
    },
    {
      "cell_type": "code",
      "source": [
        "#What is a nested dictionary, and give an example of its use case\n",
        "\n",
        "#A nested dictionary in Python is a dictionary within another dictionary. It allows you to represent hierarchical or structured data using key-value pairs\n",
        "Student = {\n",
        "    'John': {'Subject': ['Maths','History'],'Grade': 'A'},\n",
        "         'Ritika':{'Subject': ['Chem','Bio'],'Grade': 'C'}\n",
        "}\n",
        "print(Student[\"Ritika\"]['Subject'])"
      ],
      "metadata": {
        "colab": {
          "base_uri": "https://localhost:8080/"
        },
        "id": "b2Vmz8evh2t_",
        "outputId": "92beef18-98a8-4796-b099-c73452a27dc5"
      },
      "execution_count": null,
      "outputs": [
        {
          "output_type": "stream",
          "name": "stdout",
          "text": [
            "['Chem', 'Bio']\n"
          ]
        }
      ]
    },
    {
      "cell_type": "code",
      "source": [],
      "metadata": {
        "id": "T3EELcDbY4y7"
      },
      "execution_count": null,
      "outputs": []
    },
    {
      "cell_type": "markdown",
      "source": [
        "#Describe the time complexity of accessing elements in a dictionary\n",
        "\n",
        "Accessing an element in a Python dictionary (or a hash table in general) typically has a time complexity of O(1) on average. This means that the time it takes to retrieve a value associated with a key remains constant regardless of the dictionary's size."
      ],
      "metadata": {
        "id": "tVrTtUMHoADw"
      }
    },
    {
      "cell_type": "markdown",
      "source": [
        "#In what situations are lists preferred over dictionaries?\n",
        "\n",
        " Lists are preferred over dictionaries when there is no relevance of assigning keys to values, requires duplicate values to exist in the list and have to maintain a specific **order** that can be accessed through indexing."
      ],
      "metadata": {
        "id": "jPrPDDWaohxq"
      }
    },
    {
      "cell_type": "markdown",
      "source": [
        "#Why are dictionaries considered unordered, and how does that affect data retrieval?\n",
        "\n",
        "In Dictionary, values are retrieved thorugh their keys and it does not support indexing . It affects the data retrieval in a way that You couldn’t rely on the order of items when looping through a dictionary as it stores items based on the hash value and not the order."
      ],
      "metadata": {
        "id": "TMZ-CPvMp1FR"
      }
    },
    {
      "cell_type": "markdown",
      "source": [
        "#Explain the difference between a list and a dictionary in terms of data retrieval.\n",
        "\n",
        "**List** retreives the data in the order it was entred as it follows the indexing principle however, when compares to dictionary it is slower as to find specific item, it will have to go through the entire list contrary to that **Dictionary** is an unordered set of items that does not support indexing, however, it retrieves the data faster because it assigns the key to the value and based on that key, value can be retrieved much efficently."
      ],
      "metadata": {
        "id": "dQTzOSayw8Vx"
      }
    },
    {
      "cell_type": "code",
      "source": [
        "#Write a code to create a string with your name and print it.\n",
        "\n",
        "Name= 'Sonu'\n",
        "print(Name)"
      ],
      "metadata": {
        "colab": {
          "base_uri": "https://localhost:8080/"
        },
        "id": "1PkhuCugyxHF",
        "outputId": "759716bf-9bd1-48ea-8655-e84423aa9a50"
      },
      "execution_count": null,
      "outputs": [
        {
          "output_type": "stream",
          "name": "stdout",
          "text": [
            "Sonu\n"
          ]
        }
      ]
    },
    {
      "cell_type": "code",
      "source": [
        "#Write a code to find the length of the string \"Hello World\".\n",
        "\n",
        "print('Hello World')\n",
        "\n",
        "len('Hello World')\n",
        "\n"
      ],
      "metadata": {
        "colab": {
          "base_uri": "https://localhost:8080/"
        },
        "id": "77fuotH0zQxH",
        "outputId": "ad50d860-789c-4c8e-fabb-5c5c3961868a"
      },
      "execution_count": null,
      "outputs": [
        {
          "output_type": "stream",
          "name": "stdout",
          "text": [
            "Hello World\n"
          ]
        },
        {
          "output_type": "execute_result",
          "data": {
            "text/plain": [
              "11"
            ]
          },
          "metadata": {},
          "execution_count": 24
        }
      ]
    },
    {
      "cell_type": "code",
      "source": [
        "#Write a code to slice the first 3 characters from the string \"Python Programming\".\n",
        "\n",
        "string= 'Python Programming'\n",
        "print(string[:3])"
      ],
      "metadata": {
        "colab": {
          "base_uri": "https://localhost:8080/"
        },
        "id": "kkolRBD0zwjK",
        "outputId": "5b394153-e67f-4d23-b67a-21356d9b8a6d"
      },
      "execution_count": null,
      "outputs": [
        {
          "output_type": "stream",
          "name": "stdout",
          "text": [
            "Pyt\n"
          ]
        }
      ]
    },
    {
      "cell_type": "code",
      "source": [
        "#Write a code to convert the string \"hello\" to uppercase.\n",
        "\n",
        "S= 'Hey'\n",
        "print(S.upper())"
      ],
      "metadata": {
        "colab": {
          "base_uri": "https://localhost:8080/"
        },
        "id": "Fs2uCzLN0VZv",
        "outputId": "a04b7b87-5f10-4b26-9f06-266f20c718b3"
      },
      "execution_count": null,
      "outputs": [
        {
          "output_type": "stream",
          "name": "stdout",
          "text": [
            "HEY\n"
          ]
        }
      ]
    },
    {
      "cell_type": "code",
      "source": [
        "#Write a code to replace the word \"apple\" with \"orange\" in the string \"I like apple\".\n",
        "\n",
        "S= 'I like Apple'\n",
        "print(S.replace('Apple','Orange'))\n"
      ],
      "metadata": {
        "colab": {
          "base_uri": "https://localhost:8080/"
        },
        "id": "lvPnSGTq0qKA",
        "outputId": "98459ec8-eb4e-471f-9aa6-8f9f2e69e1a4"
      },
      "execution_count": null,
      "outputs": [
        {
          "output_type": "stream",
          "name": "stdout",
          "text": [
            "I like Orange\n"
          ]
        }
      ]
    },
    {
      "cell_type": "code",
      "source": [
        "#Write a code to create a list with numbers 1 to 5 and print it.\n",
        "\n",
        "List=[1,2,3,4,5]\n",
        "List"
      ],
      "metadata": {
        "colab": {
          "base_uri": "https://localhost:8080/"
        },
        "id": "CNmUIWpZ1GV8",
        "outputId": "766777f1-08e1-4bc5-b9c0-3ba767445bf2"
      },
      "execution_count": null,
      "outputs": [
        {
          "output_type": "execute_result",
          "data": {
            "text/plain": [
              "[1, 2, 3, 4, 5]"
            ]
          },
          "metadata": {},
          "execution_count": 37
        }
      ]
    },
    {
      "cell_type": "code",
      "source": [
        "#Append 10 to the list [1, 2, 3, 4]\n",
        "S=[1,2,3,4,5]\n",
        "S.append(10)\n",
        "S\n",
        "# Remove the number 3 from the list [1, 2, 3, 4, 5]\n",
        "S.remove(3)\n",
        "S\n"
      ],
      "metadata": {
        "colab": {
          "base_uri": "https://localhost:8080/"
        },
        "id": "KA03emp_1Wb2",
        "outputId": "a021a69d-f0dc-4e64-e6be-1274ac9bec8c"
      },
      "execution_count": null,
      "outputs": [
        {
          "output_type": "execute_result",
          "data": {
            "text/plain": [
              "[1, 2, 4, 5, 10]"
            ]
          },
          "metadata": {},
          "execution_count": 51
        }
      ]
    },
    {
      "cell_type": "code",
      "source": [
        "#Access the second element in ['a', 'b', 'c', 'd']\n",
        "\n",
        "K=['a', 'b', 'c', 'd']\n",
        "\n",
        "print(K[1])\n"
      ],
      "metadata": {
        "colab": {
          "base_uri": "https://localhost:8080/"
        },
        "id": "7OGiE4Et2HJf",
        "outputId": "e9053578-3128-4c0b-808f-671fefccf01b"
      },
      "execution_count": null,
      "outputs": [
        {
          "output_type": "stream",
          "name": "stdout",
          "text": [
            "b\n"
          ]
        }
      ]
    },
    {
      "cell_type": "code",
      "source": [
        "#Reverse the list [10, 20, 30, 40, 50]\n",
        "\n",
        "A=[10, 20, 30, 40, 50]\n",
        "A.reverse()\n",
        "A"
      ],
      "metadata": {
        "colab": {
          "base_uri": "https://localhost:8080/"
        },
        "id": "5Xhtv_1Q3Srp",
        "outputId": "27d5fed1-75a5-4728-f35f-bdf9529ae2d1"
      },
      "execution_count": null,
      "outputs": [
        {
          "output_type": "execute_result",
          "data": {
            "text/plain": [
              "[50, 40, 30, 20, 10]"
            ]
          },
          "metadata": {},
          "execution_count": 69
        }
      ]
    },
    {
      "cell_type": "code",
      "source": [
        "#Create a tuple with elements 100, 200, 300 and print it\n",
        "Tuple= (100,200,300)\n",
        "Tuple"
      ],
      "metadata": {
        "colab": {
          "base_uri": "https://localhost:8080/"
        },
        "id": "CyIU0ICQ3fDT",
        "outputId": "e50d6b20-cb6e-4215-b4af-49aff568f004"
      },
      "execution_count": null,
      "outputs": [
        {
          "output_type": "execute_result",
          "data": {
            "text/plain": [
              "(100, 200, 300)"
            ]
          },
          "metadata": {},
          "execution_count": 80
        }
      ]
    },
    {
      "cell_type": "code",
      "source": [
        "#Access second-to-last element of ('red', 'green', 'blue', 'yellow')\n",
        "\n",
        "A=('red', 'green', 'blue', 'yellow')\n",
        "\n",
        "print(A[-2])"
      ],
      "metadata": {
        "colab": {
          "base_uri": "https://localhost:8080/"
        },
        "id": "ebI38kyU3uWD",
        "outputId": "daa2d37b-9217-44dd-c37e-cae1fa3fce28"
      },
      "execution_count": null,
      "outputs": [
        {
          "output_type": "stream",
          "name": "stdout",
          "text": [
            "blue\n"
          ]
        }
      ]
    },
    {
      "cell_type": "code",
      "source": [
        "#13. Find the minimum number in (10, 20, 5, 15)\n",
        "A=(10,20,5,15)\n",
        "print(min(A))\n"
      ],
      "metadata": {
        "colab": {
          "base_uri": "https://localhost:8080/"
        },
        "id": "8igdh_Ck4HDx",
        "outputId": "bb6a9505-977e-4a9f-cbae-039a93020b01"
      },
      "execution_count": null,
      "outputs": [
        {
          "output_type": "stream",
          "name": "stdout",
          "text": [
            "5\n"
          ]
        }
      ]
    },
    {
      "cell_type": "code",
      "source": [
        "#14. Find index of \"cat\" in ('dog', 'cat', 'rabbit')\n",
        "\n",
        "A=('Dog','cat','rabbit')\n",
        "print(A.index('cat'))\n",
        "\n"
      ],
      "metadata": {
        "colab": {
          "base_uri": "https://localhost:8080/"
        },
        "id": "8wNeUQW_5BVo",
        "outputId": "ffe67d1f-6b90-4ae9-b156-75b7df9621df"
      },
      "execution_count": null,
      "outputs": [
        {
          "output_type": "stream",
          "name": "stdout",
          "text": [
            "1\n"
          ]
        }
      ]
    },
    {
      "cell_type": "code",
      "source": [
        "#15. Create a tuple with fruits and check if \"kiwi\" is in it\n",
        "\n",
        "B=('Apple','Kiwi', 'Banana')\n",
        "print('Kiwi' in B)\n",
        "\n"
      ],
      "metadata": {
        "colab": {
          "base_uri": "https://localhost:8080/"
        },
        "id": "9P48Uaa55by8",
        "outputId": "00766287-c32c-4e0f-b47c-0cca665962b2"
      },
      "execution_count": null,
      "outputs": [
        {
          "output_type": "stream",
          "name": "stdout",
          "text": [
            "True\n"
          ]
        }
      ]
    },
    {
      "cell_type": "code",
      "source": [
        "#16. Create a set with elements 'a', 'b', 'c' and print it\n",
        "\n",
        "Element={'a','b','c'}\n",
        "Element"
      ],
      "metadata": {
        "colab": {
          "base_uri": "https://localhost:8080/"
        },
        "id": "agzzZQ24sunl",
        "outputId": "95c6581a-23e3-40fd-f643-01a47d6e8bdd"
      },
      "execution_count": null,
      "outputs": [
        {
          "output_type": "execute_result",
          "data": {
            "text/plain": [
              "{'a', 'b', 'c'}"
            ]
          },
          "metadata": {},
          "execution_count": 3
        }
      ]
    },
    {
      "cell_type": "code",
      "source": [
        "#17.Clear all elements from the set {1, 2, 3, 4, 5}\n",
        "\n",
        "Sets= {1, 2, 3, 4, 5}\n",
        "\n",
        "Sets.clear()"
      ],
      "metadata": {
        "id": "PYev7Aees8Sf"
      },
      "execution_count": null,
      "outputs": []
    },
    {
      "cell_type": "code",
      "source": [
        "#18. Remove element 4 from {1, 2, 3, 4}\n",
        "\n",
        "Sets= {1, 2, 3, 4, 5}\n",
        "Sets.remove(4)\n",
        "Sets"
      ],
      "metadata": {
        "colab": {
          "base_uri": "https://localhost:8080/"
        },
        "id": "tWlkV7ietTks",
        "outputId": "82d030af-4cba-48e2-d1e0-a1a8d1787ae0"
      },
      "execution_count": null,
      "outputs": [
        {
          "output_type": "execute_result",
          "data": {
            "text/plain": [
              "{1, 2, 3, 5}"
            ]
          },
          "metadata": {},
          "execution_count": 15
        }
      ]
    },
    {
      "cell_type": "code",
      "source": [
        "#19. Union of sets {1, 2, 3} and {3, 4, 5}"
      ],
      "metadata": {
        "id": "d72HVybAtqQZ"
      },
      "execution_count": null,
      "outputs": []
    },
    {
      "cell_type": "code",
      "source": [
        "A= {1,2,3}\n",
        "B= {3,4,5}\n",
        "\n",
        "print(A.union(B))"
      ],
      "metadata": {
        "colab": {
          "base_uri": "https://localhost:8080/"
        },
        "id": "ldwKKMFBttlV",
        "outputId": "4b688a2d-0a31-4156-bb1d-c93b265a1918"
      },
      "execution_count": null,
      "outputs": [
        {
          "output_type": "stream",
          "name": "stdout",
          "text": [
            "{1, 2, 3, 4, 5}\n"
          ]
        }
      ]
    },
    {
      "cell_type": "code",
      "source": [
        "#20. Intersection of sets {1, 2, 3} and {2, 3, 4}\n",
        "A={1,2,3}\n",
        "B={2,3,4}\n",
        "\n",
        "print(A.intersection(B))\n",
        "\n"
      ],
      "metadata": {
        "colab": {
          "base_uri": "https://localhost:8080/"
        },
        "id": "1PPUYOtHuFby",
        "outputId": "1be51181-13ef-4342-9e4e-453dd37ea8b9"
      },
      "execution_count": null,
      "outputs": [
        {
          "output_type": "stream",
          "name": "stdout",
          "text": [
            "{2, 3}\n"
          ]
        }
      ]
    },
    {
      "cell_type": "code",
      "source": [
        "#21. Create a dictionary with keys \"name\", \"age\", \"city\"\n",
        "\n",
        "My_dictionary={'Name':'Sonu', 'Age': 25, 'City':'GKP'}\n",
        "\n",
        "My_dictionary"
      ],
      "metadata": {
        "colab": {
          "base_uri": "https://localhost:8080/"
        },
        "id": "SQDT8KH_vjks",
        "outputId": "8a668fb9-6455-4a6e-97e4-29a08386f3d3"
      },
      "execution_count": null,
      "outputs": [
        {
          "output_type": "execute_result",
          "data": {
            "text/plain": [
              "{'Name': 'Sonu', 'Age': 25, 'City': 'GKP'}"
            ]
          },
          "metadata": {},
          "execution_count": 35
        }
      ]
    },
    {
      "cell_type": "code",
      "source": [
        "#22. Add \"country\": \"USA\" to {'name': 'John', 'age': 25}\n",
        "\n",
        "A={'Name':'John','Age': 25}\n",
        "A['Country']= 'USA'\n",
        "\n",
        "A"
      ],
      "metadata": {
        "colab": {
          "base_uri": "https://localhost:8080/"
        },
        "id": "NXx3Gn_gzkgB",
        "outputId": "ec1d8fbe-9161-4e67-ca28-27c88dc504a2"
      },
      "execution_count": null,
      "outputs": [
        {
          "output_type": "execute_result",
          "data": {
            "text/plain": [
              "{'Name': 'John', 'Age': 25, 'Country': 'USA'}"
            ]
          },
          "metadata": {},
          "execution_count": 40
        }
      ]
    },
    {
      "cell_type": "code",
      "source": [
        "#23. Access value of \"name\" in {'name': 'Alice', 'age': 30}\n",
        "\n",
        "C={'name': 'Alice', 'age': 30}\n",
        "print(C['name'])\n",
        "\n"
      ],
      "metadata": {
        "colab": {
          "base_uri": "https://localhost:8080/"
        },
        "id": "9xed0dLs1kFR",
        "outputId": "67c6ba18-adef-4ab8-c2a9-654af47a5116"
      },
      "execution_count": null,
      "outputs": [
        {
          "output_type": "stream",
          "name": "stdout",
          "text": [
            "Alice\n"
          ]
        }
      ]
    },
    {
      "cell_type": "code",
      "source": [
        "#24. Remove \"age\" from {'name': 'Bob', 'age': 22, 'city': 'New York'}\n",
        "\n",
        "A={'name': 'Bob', 'age': 22, 'city': 'New York'}\n",
        "A.pop('age')\n",
        "A\n",
        "\n"
      ],
      "metadata": {
        "colab": {
          "base_uri": "https://localhost:8080/"
        },
        "id": "gOHAyP212DrS",
        "outputId": "1a845f8d-bca2-414d-fd85-6b3800d487e7"
      },
      "execution_count": null,
      "outputs": [
        {
          "output_type": "execute_result",
          "data": {
            "text/plain": [
              "{'name': 'Bob', 'city': 'New York'}"
            ]
          },
          "metadata": {},
          "execution_count": 48
        }
      ]
    },
    {
      "cell_type": "code",
      "source": [
        "#25. Check if \"city\" exists in {'name': 'Alice', 'city': 'Paris'}\n",
        "d = {'name': 'Alice', 'city': 'Paris'}\n",
        "print(\"city\" in d)\n"
      ],
      "metadata": {
        "colab": {
          "base_uri": "https://localhost:8080/"
        },
        "id": "plOjdZ-92RPy",
        "outputId": "010c876c-2ec3-42e9-e004-16df9b3cd0bb"
      },
      "execution_count": null,
      "outputs": [
        {
          "output_type": "stream",
          "name": "stdout",
          "text": [
            "True\n"
          ]
        }
      ]
    },
    {
      "cell_type": "code",
      "source": [
        "#26. Create a list, a tuple, and a dictionary, and print them\n",
        "lst = [1, 2, 3]\n",
        "tup = (4, 5, 6)\n",
        "dct = {\"a\": 7, \"b\": 8}\n",
        "print(lst, tup, dct)\n",
        "\n"
      ],
      "metadata": {
        "colab": {
          "base_uri": "https://localhost:8080/"
        },
        "id": "oywcJzOT3NRS",
        "outputId": "bde16ed3-6dca-45cf-cbbd-64f9844ffd9b"
      },
      "execution_count": null,
      "outputs": [
        {
          "output_type": "stream",
          "name": "stdout",
          "text": [
            "[1, 2, 3] (4, 5, 6) {'a': 7, 'b': 8}\n"
          ]
        }
      ]
    },
    {
      "cell_type": "code",
      "source": [
        "#27. Create 5 random numbers between 1–100, sort, print\n",
        "import random\n",
        "numbers = random.sample(range(1, 101), 5)\n",
        "numbers.sort()\n",
        "print(numbers)\n",
        "\n"
      ],
      "metadata": {
        "colab": {
          "base_uri": "https://localhost:8080/"
        },
        "id": "ctq4Vxyo3TEI",
        "outputId": "edb0cc51-6365-4006-e2b1-f9cfce29ef0e"
      },
      "execution_count": null,
      "outputs": [
        {
          "output_type": "stream",
          "name": "stdout",
          "text": [
            "[22, 45, 65, 80, 99]\n"
          ]
        }
      ]
    },
    {
      "cell_type": "code",
      "source": [
        "#28. Create a list with strings and print element at index 3\n",
        "lst = [\"apple\", \"banana\", \"cherry\", \"date\", \"elderberry\"]\n",
        "print(lst[3])\n",
        "\n"
      ],
      "metadata": {
        "colab": {
          "base_uri": "https://localhost:8080/"
        },
        "id": "P8TpngMm3oRU",
        "outputId": "92651306-9223-4e01-90ae-d39a2849510c"
      },
      "execution_count": null,
      "outputs": [
        {
          "output_type": "stream",
          "name": "stdout",
          "text": [
            "date\n"
          ]
        }
      ]
    },
    {
      "cell_type": "code",
      "source": [
        "#29. Combine two dictionaries into one and print\n",
        "d1 = {\"a\": 1, \"b\": 2}\n",
        "d2 = {\"c\": 3, \"d\": 4}\n",
        "combined = {**d1, **d2}\n",
        "print(combined)\n",
        "\n"
      ],
      "metadata": {
        "colab": {
          "base_uri": "https://localhost:8080/"
        },
        "id": "YhbREFWR3xdE",
        "outputId": "9f7d4259-7e37-4494-bb20-fcb33e8d2d2f"
      },
      "execution_count": null,
      "outputs": [
        {
          "output_type": "stream",
          "name": "stdout",
          "text": [
            "{'a': 1, 'b': 2, 'c': 3, 'd': 4}\n"
          ]
        }
      ]
    },
    {
      "cell_type": "code",
      "source": [
        "#30. Convert list of strings into a set\n",
        "lst = [\"apple\", \"banana\", \"apple\"]\n",
        "s = set(lst)\n",
        "print(s)\n"
      ],
      "metadata": {
        "colab": {
          "base_uri": "https://localhost:8080/"
        },
        "id": "Jj2HbYOs34hk",
        "outputId": "0f60fb53-2632-4f82-a4f6-966dbec5677b"
      },
      "execution_count": null,
      "outputs": [
        {
          "output_type": "stream",
          "name": "stdout",
          "text": [
            "{'apple', 'banana'}\n"
          ]
        }
      ]
    }
  ]
}