{
  "nbformat": 4,
  "nbformat_minor": 5,
  "metadata": {
    "colab": {
      "provenance": []
    }
  },
  "cells": [
    {
      "id": "1d31f04f",
      "cell_type": "markdown",
      "source": [
        "# Supervised Learning: Regression Models and Performance Metrics\n"
      ],
      "metadata": {
        "id": "1d31f04f"
      }
    },
    {
      "id": "e4b47275",
      "cell_type": "markdown",
      "source": [
        "### Question 1: What is Simple Linear Regression (SLR)? Explain its purpose.\n",
        "Simple Linear Regression (SLR) is a statistical technique that models the relationship between one independent variable (X) and one dependent variable (Y) by fitting a straight line. Its main purpose is to predict Y based on X and understand how changes in X affect Y.\n",
        "\n",
        "**Example:** Predicting a person's weight based on height."
      ],
      "metadata": {
        "id": "e4b47275"
      }
    },
    {
      "id": "c8c7d8e9",
      "cell_type": "markdown",
      "source": [
        "### Question 2: What are the key assumptions of Simple Linear Regression?\n",
        "1. **Linearity:** The relationship between X and Y is linear.\n",
        "2. **Independence:** Observations are independent.\n",
        "3. **Homoscedasticity:** Equal variance of residuals across all X values.\n",
        "4. **Normality of errors:** Residuals are normally distributed.\n",
        "5. **No multicollinearity:** Not applicable in SLR since there’s only one X.\n",
        "\n",
        "**Example:** A random scatter plot of residuals supports these assumptions."
      ],
      "metadata": {
        "id": "c8c7d8e9"
      }
    },
    {
      "id": "34a10876",
      "cell_type": "markdown",
      "source": [
        "### Question 3: Write the mathematical equation for a simple linear regression model and explain each term.\n",
        "**Equation:**  \n",
        "\\( Y = β_0 + β_1X + ε \\)\n",
        "\n",
        "**Where:**  \n",
        "- Y = Dependent variable  \n",
        "- X = Independent variable  \n",
        "- β₀ = Intercept (value of Y when X=0)  \n",
        "- β₁ = Slope (change in Y for a one-unit change in X)  \n",
        "- ε = Error term (difference between actual and predicted Y)\n",
        "\n",
        "**Example:** If Y = 5 + 2X, then Y increases by 2 units for every 1-unit increase in X."
      ],
      "metadata": {
        "id": "34a10876"
      }
    },
    {
      "id": "3cc94bbe",
      "cell_type": "markdown",
      "source": [
        "### Question 4: Provide a real-world example where simple linear regression can be applied.\n",
        "**Example:** Predicting sales revenue based on advertising spend.  \n",
        "It helps businesses estimate how changes in ad budget impact revenue."
      ],
      "metadata": {
        "id": "3cc94bbe"
      }
    },
    {
      "id": "a9ed7e4d",
      "cell_type": "markdown",
      "source": [
        "### Question 5: What is the method of least squares in linear regression?\n",
        "The method of least squares finds the line that minimizes the sum of squared differences between observed and predicted values.\n",
        "\n",
        "**Mathematically:**  \n",
        "\\( \\text{Minimize } \\sum (Y_i - \\hat{Y_i})^2 \\)\n",
        "\n",
        "**Example:** If actual vs predicted values are [100,150,200] and [110,140,190], squared errors = (-10)² + (10)² + (10)² = 300."
      ],
      "metadata": {
        "id": "a9ed7e4d"
      }
    },
    {
      "id": "83fd6193",
      "cell_type": "markdown",
      "source": [
        "### Question 6: What is Logistic Regression? How does it differ from Linear Regression?\n",
        "**Logistic Regression** predicts categorical outcomes (0/1) using a logistic (sigmoid) function.\n",
        "\n",
        "| Aspect | Linear Regression | Logistic Regression |\n",
        "|---------|------------------|--------------------|\n",
        "| Output Type | Continuous | Categorical (0/1) |\n",
        "| Range | (-∞, +∞) | (0, 1) |\n",
        "| Example | Predicting house price | Predicting if customer buys or not |"
      ],
      "metadata": {
        "id": "83fd6193"
      }
    },
    {
      "id": "ba1698f3",
      "cell_type": "markdown",
      "source": [
        "### Question 7: Name and briefly describe three common evaluation metrics for regression models.\n",
        "1. **MAE (Mean Absolute Error):** Average of absolute errors |Y - Ŷ|.  \n",
        "2. **MSE (Mean Squared Error):** Average of squared errors (Y - Ŷ)².  \n",
        "3. **RMSE (Root Mean Squared Error):** Square root of MSE, in same units as Y.  \n",
        "\n",
        "**Example:** RMSE = 5 means predictions are off by 5 units on average."
      ],
      "metadata": {
        "id": "ba1698f3"
      }
    },
    {
      "id": "41d71916",
      "cell_type": "markdown",
      "source": [
        "### Question 8: What is the purpose of the R-squared metric in regression analysis?\n",
        "R² measures how much variance in Y is explained by X.\n",
        "\n",
        "**Formula:**  \n",
        "\\( R^2 = 1 - \\frac{SS_{res}}{SS_{tot}} \\)\n",
        "\n",
        "**Example:** R² = 0.9 means 90% of the variation in Y is explained by X."
      ],
      "metadata": {
        "id": "41d71916"
      }
    },
    {
      "id": "812159f0",
      "cell_type": "markdown",
      "source": [
        "### Question 9: Write Python code to fit a simple linear regression model using scikit-learn and print the slope and intercept."
      ],
      "metadata": {
        "id": "812159f0"
      }
    },
    {
      "id": "52b325cc",
      "cell_type": "code",
      "metadata": {
        "id": "52b325cc"
      },
      "execution_count": null,
      "source": [
        "from sklearn.linear_model import LinearRegression\n",
        "import numpy as np\n",
        "\n",
        "# Sample data\n",
        "X = np.array([1, 2, 3, 4, 5]).reshape(-1, 1)\n",
        "y = np.array([2, 4, 5, 4, 5])\n",
        "\n",
        "# Create and fit the model\n",
        "model = LinearRegression()\n",
        "model.fit(X, y)\n",
        "\n",
        "# Print coefficients\n",
        "print('Slope (β₁):', model.coef_[0])\n",
        "print('Intercept (β₀):', model.intercept_)"
      ],
      "outputs": []
    },
    {
      "id": "2ad3e440",
      "cell_type": "markdown",
      "source": [
        "### Question 10: How do you interpret the coefficients in a simple linear regression model?\n",
        "- **Intercept (β₀):** Expected Y when X=0.  \n",
        "- **Slope (β₁):** Change in Y for each one-unit increase in X.  \n",
        "\n",
        "**Example:** If Y = 50 + 10X, then when X increases by 1, Y increases by 10 units."
      ],
      "metadata": {
        "id": "2ad3e440"
      }
    }
  ]
}