{
  "nbformat": 4,
  "nbformat_minor": 0,
  "metadata": {
    "colab": {
      "provenance": []
    },
    "kernelspec": {
      "name": "python3",
      "display_name": "Python 3"
    },
    "language_info": {
      "name": "python"
    }
  },
  "cells": [
    {
      "cell_type": "markdown",
      "source": [
        "#Python file handling, exception handling, logging, and memory management\n",
        "\n",
        "Theoritical Questions."
      ],
      "metadata": {
        "id": "cCzqG5kqDdb8"
      }
    },
    {
      "cell_type": "markdown",
      "source": [
        "#1.What is the difference between interpreted and compiled languages?\n",
        "\n",
        "Compiled languages translate the entire source code into machine code before execution, making them faster at runtime (e.g., C++). Interpreted languages execute code line-by-line via an interpreter, which is slower but easier to debug and portable (e.g., Python).\n",
        "\n"
      ],
      "metadata": {
        "id": "4lw74_GCaw2k"
      }
    },
    {
      "cell_type": "markdown",
      "source": [
        "#Q2. What is exception handling in Python?\n",
        "\n",
        "It’s the mechanism to handle runtime errors gracefully without breaking the program flow. You use try, except, else, and finally blocks to catch and respond to errors."
      ],
      "metadata": {
        "id": "r3wSAyzUbQtl"
      }
    },
    {
      "cell_type": "markdown",
      "source": [
        "#Q3. Purpose of the finally block in exception handling:\n",
        "\n",
        "The finally block runs no matter what — whether an exception occurred or not. It’s mainly used for cleanup actions like closing files, releasing locks, or disconnecting from a database."
      ],
      "metadata": {
        "id": "2B-z4FpmbVI6"
      }
    },
    {
      "cell_type": "markdown",
      "source": [
        "#Q4. What is logging in Python?\n",
        "\n",
        "Logging records events, warnings, and errors while a program runs, helping in debugging and monitoring. Python’s logging module lets you log messages at different levels like INFO, WARNING, and ERROR."
      ],
      "metadata": {
        "id": "SPAkz0NLbi05"
      }
    },
    {
      "cell_type": "markdown",
      "source": [
        "#Q5. Significance of the __del__ method in Python:\n",
        "\n",
        "This is a destructor method called when an object is about to be garbage-collected. It’s often used for cleanup, like closing files or releasing resources automatically."
      ],
      "metadata": {
        "id": "kHg1of_kbpgZ"
      }
    },
    {
      "cell_type": "markdown",
      "source": [
        "#Q6. Difference between import and from ... import:\n",
        "\n",
        "import module imports the whole module, and you access functions with module.function().\n",
        "from module import func imports only specific items, so you can use func() directly."
      ],
      "metadata": {
        "id": "Xf6vMSMNcA1o"
      }
    },
    {
      "cell_type": "markdown",
      "source": [
        "#Q7. Handling multiple exceptions in Python:\n",
        "\n",
        "You can catch multiple exceptions using multiple except blocks or by grouping them in a tuple:\n",
        "\n",
        "\n"
      ],
      "metadata": {
        "id": "vIgpexR2cNdM"
      }
    },
    {
      "cell_type": "markdown",
      "source": [
        "#Q8. Purpose of the with statement in file handling:\n",
        "\n",
        "The with statement ensures a file is properly closed after operations, even if an error occurs.\n"
      ],
      "metadata": {
        "id": "s5c8nXiYc4Pa"
      }
    },
    {
      "cell_type": "code",
      "source": [
        "# Create the file first\n",
        "with open(\"data.txt\", \"w\") as f:\n",
        "    f.write(\"This is some sample data.\")\n",
        "\n",
        "# Now you can read from the file\n",
        "with open(\"data.txt\", \"r\") as f:\n",
        "    print(f.read())"
      ],
      "metadata": {
        "colab": {
          "base_uri": "https://localhost:8080/"
        },
        "id": "aOaCz6CddCN8",
        "outputId": "e23c2e28-8cd6-4be8-82b5-00b9caa239c4"
      },
      "execution_count": null,
      "outputs": [
        {
          "output_type": "stream",
          "name": "stdout",
          "text": [
            "This is some sample data.\n"
          ]
        }
      ]
    },
    {
      "cell_type": "markdown",
      "source": [
        "#Q9. Difference between multithreading and multiprocessing:\n",
        "\n",
        "Multithreading runs multiple threads within the same process, sharing memory but limited by Python’s GIL for CPU-bound tasks. Multiprocessing runs separate processes with their own memory space, better for CPU-heavy work."
      ],
      "metadata": {
        "id": "4qdQIP02eU24"
      }
    },
    {
      "cell_type": "markdown",
      "source": [
        "#Q10. Advantages of using logging in a program:\n",
        "\n",
        "Centralized record of errors and events\n",
        "\n",
        "Can log at different levels (INFO, DEBUG, ERROR)\n",
        "\n",
        "Helpful for troubleshooting without stopping the program\n",
        "\n"
      ],
      "metadata": {
        "id": "iywM0HKMedgi"
      }
    },
    {
      "cell_type": "markdown",
      "source": [
        "#Q11. What is memory management in Python?\n",
        "\n",
        "It’s the process of allocating and freeing memory while the program runs. Python handles this automatically through a private heap and garbage collection."
      ],
      "metadata": {
        "id": "OLrVfV-UfpPO"
      }
    },
    {
      "cell_type": "markdown",
      "source": [
        "#Q12. Basic steps in exception handling:\n",
        "\n",
        "Write code inside a try block.\n",
        "\n",
        "Catch specific errors in except blocks.\n",
        "\n",
        "Optionally run else if no errors occur.\n",
        "\n",
        "Always execute cleanup in finally."
      ],
      "metadata": {
        "id": "Yu_40ASqfr8X"
      }
    },
    {
      "cell_type": "markdown",
      "source": [
        "#Q13. Why is memory management important in Python?\n",
        "\n",
        "Efficient memory management prevents memory leaks, keeps programs fast, and ensures the system doesn’t run out of memory.\n",
        "\n"
      ],
      "metadata": {
        "id": "X7r8t1x_gdHd"
      }
    },
    {
      "cell_type": "markdown",
      "source": [
        "#Q14. Role of try and except in exception handling:\n",
        "\n",
        "try encloses risky code, and except catches and handles specific errors, preventing program crashes.\n",
        "\n"
      ],
      "metadata": {
        "id": "bQObSwWWgrU6"
      }
    },
    {
      "cell_type": "markdown",
      "source": [
        "#Q15. How does Python’s garbage collection system work?\n",
        "\n",
        "Python tracks object references. When an object’s reference count drops to zero, it’s automatically deleted. Cyclic garbage is cleaned using the gc module."
      ],
      "metadata": {
        "id": "HJEe8O5ggwBt"
      }
    },
    {
      "cell_type": "markdown",
      "source": [
        "#Q16. Purpose of the else block in exception handling:\n",
        "\n",
        "The else block runs only if the try block has no errors. It’s useful for code that should execute when everything went fine.\n"
      ],
      "metadata": {
        "id": "K6Yrp0uUhH_A"
      }
    },
    {
      "cell_type": "markdown",
      "source": [
        "#Q17. Common logging levels in Python:\n",
        "\n",
        "DEBUG → Detailed info for debugging.\n",
        "\n",
        "INFO → General program progress.\n",
        "\n",
        "WARNING → Something unexpected happened.\n",
        "\n",
        "ERROR → A serious problem occurred.\n",
        "\n",
        "CRITICAL → Program may not recover"
      ],
      "metadata": {
        "id": "qi75V6TMhXJz"
      }
    },
    {
      "cell_type": "markdown",
      "source": [
        "#Q18. Difference between fork() and multiprocessing in Python:\n",
        "\n",
        "fork() (Unix only) duplicates the current process, continuing from the same point in code. The multiprocessing module works cross-platform and provides high-level APIs for creating separate processes"
      ],
      "metadata": {
        "id": "s4FvDEJ6hhod"
      }
    },
    {
      "cell_type": "markdown",
      "source": [
        "#Q19. Importance of closing a file in Python:\n",
        "\n",
        "Closing a file releases system resources and ensures data is properly saved. Not closing can lead to data corruption.\n",
        "\n"
      ],
      "metadata": {
        "id": "T2J2iR3mhnjZ"
      }
    },
    {
      "cell_type": "markdown",
      "source": [
        "#Q20. Difference between file.read() and file.readline():\n",
        "\n",
        "read() → Reads the whole file or a given number of bytes.\n",
        "\n",
        "readline() → Reads one line at a time."
      ],
      "metadata": {
        "id": "NGH8lX2Thtn4"
      }
    },
    {
      "cell_type": "markdown",
      "source": [
        "#Q21. What is the logging module in Python used for?\n",
        "\n",
        "It’s used to record messages about program execution at different levels (DEBUG, INFO, WARNING, ERROR, CRITICAL) for debugging and monitoring."
      ],
      "metadata": {
        "id": "UyHODnp5h2rx"
      }
    },
    {
      "cell_type": "markdown",
      "source": [
        "#Q22. What is the os module used for in file handling?\n",
        "\n",
        "It provides functions to interact with the operating system — like checking if a file exists, creating directories, and removing files."
      ],
      "metadata": {
        "id": "88G7esi0h9sK"
      }
    },
    {
      "cell_type": "markdown",
      "source": [
        "#Q23. Challenges in memory management in Python:\n",
        "\n",
        "Circular references between objects\n",
        "\n",
        "Memory fragmentation\n",
        "\n",
        "High memory usage with large datasets"
      ],
      "metadata": {
        "id": "n5En3MH2iIsH"
      }
    },
    {
      "cell_type": "code",
      "source": [
        "#Q24. How do you manually raise an exception in Python?\n",
        "\n",
        "#We do it by using the raise the keyword :\n",
        "\n",
        "raise ValueError(\"Invalid value\")\n"
      ],
      "metadata": {
        "id": "KwgHpdFPiPgf"
      },
      "execution_count": null,
      "outputs": []
    },
    {
      "cell_type": "markdown",
      "source": [
        "#Q25. Why is multithreading important in certain applications?\n",
        "\n",
        "It allows multiple tasks (especially I/O-bound) to run concurrently, improving responsiveness and performance."
      ],
      "metadata": {
        "id": "e2or-HlLj54p"
      }
    },
    {
      "cell_type": "markdown",
      "source": [
        "#Practical Questions."
      ],
      "metadata": {
        "id": "GLNTAj2hD440"
      }
    },
    {
      "cell_type": "code",
      "source": [
        "#Q26. How to open a file for writing and write a string:\n",
        "\n",
        "with open(\"file.txt\", \"w\") as f:\n",
        "    f.write(\"Hello, World!\")\n",
        "\n"
      ],
      "metadata": {
        "id": "zOiUbNfqD-Fi"
      },
      "execution_count": 3,
      "outputs": []
    },
    {
      "cell_type": "code",
      "source": [
        "#Q27. Read a file and print each line:\n",
        "\n",
        "with open(\"file.txt\") as f:\n",
        "    for line in f:\n",
        "        print(line.strip())\n"
      ],
      "metadata": {
        "colab": {
          "base_uri": "https://localhost:8080/"
        },
        "id": "YM3rWG27EHfO",
        "outputId": "60a5a05a-46fc-41d1-e338-8376a39def21"
      },
      "execution_count": 4,
      "outputs": [
        {
          "output_type": "stream",
          "name": "stdout",
          "text": [
            "Hello, World!\n"
          ]
        }
      ]
    },
    {
      "cell_type": "code",
      "source": [
        "#Q28. Handle missing file error when opening for reading:\n",
        "\n",
        "try:\n",
        "    open(\"nofile.txt\")\n",
        "except FileNotFoundError:\n",
        "    print(\"File not found\")\n",
        "\n"
      ],
      "metadata": {
        "colab": {
          "base_uri": "https://localhost:8080/"
        },
        "id": "A-lTWYVUELQE",
        "outputId": "0fcb0021-0ba6-440d-dc82-ebe0f23e9228"
      },
      "execution_count": 5,
      "outputs": [
        {
          "output_type": "stream",
          "name": "stdout",
          "text": [
            "File not found\n"
          ]
        }
      ]
    },
    {
      "cell_type": "code",
      "source": [
        "#Q29. Copy contents from one file to another:\n",
        "\n",
        "with open(\"source.txt\", \"r\") as source, open(\"destination.txt\", \"w\") as destination:\n",
        "    destination.write(source.read())"
      ],
      "metadata": {
        "id": "NkVluU3_ETxB"
      },
      "execution_count": 12,
      "outputs": []
    },
    {
      "cell_type": "code",
      "source": [
        "#Q30. Handle division by zero error:\n",
        "\n",
        "try:\n",
        "    print(5 / 0)\n",
        "except ZeroDivisionError:\n",
        "    print(\"Cannot divide by zero\")\n",
        "\n"
      ],
      "metadata": {
        "colab": {
          "base_uri": "https://localhost:8080/"
        },
        "id": "2Si_5HauE547",
        "outputId": "83431dc3-4a4b-4bd4-ed59-46a3a1216299"
      },
      "execution_count": 13,
      "outputs": [
        {
          "output_type": "stream",
          "name": "stdout",
          "text": [
            "Cannot divide by zero\n"
          ]
        }
      ]
    },
    {
      "cell_type": "code",
      "metadata": {
        "colab": {
          "base_uri": "https://localhost:8080/"
        },
        "id": "6cd7b341",
        "outputId": "ede4cdf6-8a66-4a59-a117-79f42f13b2af"
      },
      "source": [
        "import logging\n",
        "logging.basicConfig(filename=\"app.log\", level=logging.ERROR)\n",
        "try:\n",
        "    5 / 0\n",
        "except ZeroDivisionError as e:\n",
        "    logging.error(f\"Error: {e}\")"
      ],
      "execution_count": 16,
      "outputs": [
        {
          "output_type": "stream",
          "name": "stderr",
          "text": [
            "ERROR:root:Error: division by zero\n"
          ]
        }
      ]
    },
    {
      "cell_type": "code",
      "source": [
        "#Q32. Log at different levels:\n",
        "\n",
        "\n",
        "logging.debug(\"This is a debug message\")\n",
        "logging.info(\"This is an info message\")\n",
        "logging.warning(\"This is a warning message\")\n",
        "logging.error(\"This is an error message\")\n",
        "logging.critical(\"This is a critical message\")"
      ],
      "metadata": {
        "colab": {
          "base_uri": "https://localhost:8080/"
        },
        "id": "hZhHYMETFLNJ",
        "outputId": "0d3040b0-8a7d-426c-a2e3-7d5c66cf8fb0"
      },
      "execution_count": 18,
      "outputs": [
        {
          "output_type": "stream",
          "name": "stderr",
          "text": [
            "WARNING:root:This is a warning message\n",
            "ERROR:root:This is an error message\n",
            "CRITICAL:root:This is a critical message\n"
          ]
        }
      ]
    },
    {
      "cell_type": "code",
      "source": [
        "#Q33. Handle file-opening error:\n",
        "\n",
        "try:\n",
        "    open(\"nofile.txt\")\n",
        "except FileNotFoundError:\n",
        "    print(\"File not found\")\n",
        "\n",
        "\n"
      ],
      "metadata": {
        "colab": {
          "base_uri": "https://localhost:8080/"
        },
        "id": "tb58hRQ6FRSP",
        "outputId": "ec13bb6c-7744-4106-c3a6-c79e2a3efd4c"
      },
      "execution_count": 20,
      "outputs": [
        {
          "output_type": "stream",
          "name": "stdout",
          "text": [
            "File not found\n"
          ]
        }
      ]
    },
    {
      "cell_type": "code",
      "source": [
        "#Q34. Read file line-by-line into a list:\n",
        "\n",
        "with open(\"file.txt\") as f:\n",
        "    lines = f.readlines()"
      ],
      "metadata": {
        "id": "jerUgVGbFWIK"
      },
      "execution_count": 22,
      "outputs": []
    },
    {
      "cell_type": "code",
      "source": [
        "#Q35. Append data to an existing file:\n",
        "\n",
        "with open(\"file.txt\", \"a\") as f:\n",
        "    f.write(\"\\nNew line\")\n",
        "\n"
      ],
      "metadata": {
        "id": "o7n4WU3jFcQP"
      },
      "execution_count": 24,
      "outputs": []
    },
    {
      "cell_type": "code",
      "source": [
        "#Q36. Handle missing dictionary key:\n",
        "\n",
        "my_dict = {\"a\": 1, \"b\": 2}\n",
        "try:\n",
        "    print(my_dict[\"c\"])\n",
        "except KeyError:\n",
        "    print(\"Key not found\")\n"
      ],
      "metadata": {
        "colab": {
          "base_uri": "https://localhost:8080/"
        },
        "id": "mfpV8OeLFkyV",
        "outputId": "3308f1bc-efc1-4534-ae6d-c6481259976a"
      },
      "execution_count": 26,
      "outputs": [
        {
          "output_type": "stream",
          "name": "stdout",
          "text": [
            "Key not found\n"
          ]
        }
      ]
    },
    {
      "cell_type": "code",
      "source": [
        "#Q37. Multiple except blocks:\n",
        "\n",
        "\n",
        "try:\n",
        "    5 / 0\n",
        "except ZeroDivisionError:\n",
        "    print(\"Cannot divide by zero\")\n",
        "except TypeError:\n",
        "    print(\"Invalid type\")"
      ],
      "metadata": {
        "colab": {
          "base_uri": "https://localhost:8080/"
        },
        "id": "Pm-qScYjFonT",
        "outputId": "7971f2d5-b8a7-4d98-e244-39c2f93e3a7c"
      },
      "execution_count": 28,
      "outputs": [
        {
          "output_type": "stream",
          "name": "stdout",
          "text": [
            "Cannot divide by zero\n"
          ]
        }
      ]
    },
    {
      "cell_type": "code",
      "source": [
        "#Q38. Check if file exists before reading:\n",
        "\n",
        "\n",
        "import os\n",
        "\n",
        "if os.path.exists(\"file.txt\"):\n",
        "    with open(\"file.txt\") as f:\n",
        "        print(f.read())\n",
        "else:\n",
        "    print(\"File not found\")"
      ],
      "metadata": {
        "colab": {
          "base_uri": "https://localhost:8080/"
        },
        "id": "SfIx78xqFt4z",
        "outputId": "f204cd85-162e-45ef-baf0-91971aafc331"
      },
      "execution_count": 30,
      "outputs": [
        {
          "output_type": "stream",
          "name": "stdout",
          "text": [
            "Hello, World!\n",
            "New line\n",
            "New line\n"
          ]
        }
      ]
    },
    {
      "cell_type": "code",
      "source": [
        "#Q39. Log both info and error messages:\n",
        "\n",
        "\n",
        "logging.basicConfig(filename=\"app.log\", level=logging.INFO)\n",
        "try:\n",
        "    5 / 0\n",
        "except ZeroDivisionError as e:\n",
        "    logging.error(f\"Error: {e}\")"
      ],
      "metadata": {
        "colab": {
          "base_uri": "https://localhost:8080/"
        },
        "id": "DVfN0QBqFzWe",
        "outputId": "c1c375c3-5c40-4af0-b5da-fa822534deb6"
      },
      "execution_count": 32,
      "outputs": [
        {
          "output_type": "stream",
          "name": "stderr",
          "text": [
            "ERROR:root:Error: division by zero\n"
          ]
        }
      ]
    },
    {
      "cell_type": "code",
      "source": [
        "#Q40. Print file contents and handle empty file:\n",
        "with open(\"file.txt\") as f:\n",
        "    content = f.read()\n",
        "    if content:\n",
        "        print(content)\n",
        "    else:\n",
        "        print(\"File is empty\")\n",
        "\n",
        "\n"
      ],
      "metadata": {
        "colab": {
          "base_uri": "https://localhost:8080/"
        },
        "id": "wSr9ZOozF34j",
        "outputId": "53ce74f0-63bb-4968-8d61-a306bdecc031"
      },
      "execution_count": 34,
      "outputs": [
        {
          "output_type": "stream",
          "name": "stdout",
          "text": [
            "Hello, World!\n",
            "New line\n",
            "New line\n"
          ]
        }
      ]
    },
    {
      "cell_type": "code",
      "source": [
        "#Q41. Memory profiling example:\n",
        "\n",
        "from memory_profiler import profile\n",
        "@profile\n",
        "def test():\n",
        "    x = [i for i in range(10000)]\n",
        "test()\n",
        "\n"
      ],
      "metadata": {
        "colab": {
          "base_uri": "https://localhost:8080/",
          "height": 383
        },
        "id": "Atrk96XvF9T3",
        "outputId": "c115b546-5fde-412f-824b-660a5aa71332"
      },
      "execution_count": 35,
      "outputs": [
        {
          "output_type": "error",
          "ename": "ModuleNotFoundError",
          "evalue": "No module named 'memory_profiler'",
          "traceback": [
            "\u001b[0;31m---------------------------------------------------------------------------\u001b[0m",
            "\u001b[0;31mModuleNotFoundError\u001b[0m                       Traceback (most recent call last)",
            "\u001b[0;32m/tmp/ipython-input-4257462949.py\u001b[0m in \u001b[0;36m<cell line: 0>\u001b[0;34m()\u001b[0m\n\u001b[1;32m      1\u001b[0m \u001b[0;31m#Q41. Memory profiling example:\u001b[0m\u001b[0;34m\u001b[0m\u001b[0;34m\u001b[0m\u001b[0m\n\u001b[1;32m      2\u001b[0m \u001b[0;34m\u001b[0m\u001b[0m\n\u001b[0;32m----> 3\u001b[0;31m \u001b[0;32mfrom\u001b[0m \u001b[0mmemory_profiler\u001b[0m \u001b[0;32mimport\u001b[0m \u001b[0mprofile\u001b[0m\u001b[0;34m\u001b[0m\u001b[0;34m\u001b[0m\u001b[0m\n\u001b[0m\u001b[1;32m      4\u001b[0m \u001b[0;34m@\u001b[0m\u001b[0mprofile\u001b[0m\u001b[0;34m\u001b[0m\u001b[0;34m\u001b[0m\u001b[0m\n\u001b[1;32m      5\u001b[0m \u001b[0;32mdef\u001b[0m \u001b[0mtest\u001b[0m\u001b[0;34m(\u001b[0m\u001b[0;34m)\u001b[0m\u001b[0;34m:\u001b[0m\u001b[0;34m\u001b[0m\u001b[0;34m\u001b[0m\u001b[0m\n",
            "\u001b[0;31mModuleNotFoundError\u001b[0m: No module named 'memory_profiler'",
            "",
            "\u001b[0;31m---------------------------------------------------------------------------\u001b[0;32m\nNOTE: If your import is failing due to a missing package, you can\nmanually install dependencies using either !pip or !apt.\n\nTo view examples of installing some common dependencies, click the\n\"Open Examples\" button below.\n\u001b[0;31m---------------------------------------------------------------------------\u001b[0m\n"
          ],
          "errorDetails": {
            "actions": [
              {
                "action": "open_url",
                "actionText": "Open Examples",
                "url": "/notebooks/snippets/importing_libraries.ipynb"
              }
            ]
          }
        }
      ]
    },
    {
      "cell_type": "code",
      "metadata": {
        "colab": {
          "base_uri": "https://localhost:8080/"
        },
        "id": "25de6038",
        "outputId": "fb203827-9a0d-42e8-bd1c-091982cf9427"
      },
      "source": [
        "!pip install memory_profiler"
      ],
      "execution_count": 37,
      "outputs": [
        {
          "output_type": "stream",
          "name": "stdout",
          "text": [
            "Requirement already satisfied: memory_profiler in /usr/local/lib/python3.11/dist-packages (0.61.0)\n",
            "Requirement already satisfied: psutil in /usr/local/lib/python3.11/dist-packages (from memory_profiler) (5.9.5)\n"
          ]
        }
      ]
    },
    {
      "cell_type": "code",
      "source": [
        "#Q42. Write numbers to file:\n",
        "\n",
        "with open(\"numbers.txt\", \"w\") as f:\n",
        "    for i in range(1, 6):\n",
        "        f.write(str(i) + \"\\n\")\n"
      ],
      "metadata": {
        "id": "k8qC21mNGKXg"
      },
      "execution_count": 39,
      "outputs": []
    },
    {
      "cell_type": "code",
      "source": [
        "#Q43. Logging with file rotation after 1 MB:\n",
        "\n",
        "import logging\n",
        "from logging.handlers import RotatingFileHandler\n",
        "handler = RotatingFileHandler(\"app.log\", maxBytes=1_000_000, backupCount=3)\n",
        "logging.basicConfig(handlers=[handler], level=logging.INFO)\n",
        "\n"
      ],
      "metadata": {
        "id": "-6JYU7hsGQxj"
      },
      "execution_count": 41,
      "outputs": []
    },
    {
      "cell_type": "code",
      "source": [
        "#Q44. Handle IndexError and KeyError:\n",
        "\n",
        "try:\n",
        "    data = {}\n",
        "    print(data[\"x\"])\n",
        "except IndexError:\n",
        "    print(\"Index error\")\n",
        "except KeyError:\n",
        "    print(\"Key error\")\n",
        "\n"
      ],
      "metadata": {
        "colab": {
          "base_uri": "https://localhost:8080/"
        },
        "id": "Uy5oXrGXGU0V",
        "outputId": "64df4752-5bd7-45f2-c89b-7aa17af2f48e"
      },
      "execution_count": 43,
      "outputs": [
        {
          "output_type": "stream",
          "name": "stdout",
          "text": [
            "Key error\n"
          ]
        }
      ]
    },
    {
      "cell_type": "code",
      "source": [
        "#Q45. Open and read file with context manager:\n",
        "\n",
        "with open(\"file.txt\") as f:\n",
        "    print(f.read())\n",
        "\n"
      ],
      "metadata": {
        "colab": {
          "base_uri": "https://localhost:8080/"
        },
        "id": "PZDvc8m_GYpe",
        "outputId": "70c440b6-ba81-491d-9741-c17f14c459c4"
      },
      "execution_count": 45,
      "outputs": [
        {
          "output_type": "stream",
          "name": "stdout",
          "text": [
            "Hello, World!\n",
            "New line\n",
            "New line\n"
          ]
        }
      ]
    },
    {
      "cell_type": "code",
      "source": [
        "#Q46. Count occurrences of a word in file:\n",
        "\n",
        "word = \"python\"\n",
        "with open(\"file.txt\") as f:\n",
        "    print(f.read().lower().count(word))\n",
        "\n"
      ],
      "metadata": {
        "colab": {
          "base_uri": "https://localhost:8080/"
        },
        "id": "n2Jiza_JGcIS",
        "outputId": "82d31c23-9056-44f6-b6ac-e650fbff0c0a"
      },
      "execution_count": 47,
      "outputs": [
        {
          "output_type": "stream",
          "name": "stdout",
          "text": [
            "0\n"
          ]
        }
      ]
    },
    {
      "cell_type": "code",
      "source": [
        "#Q47. Check if file is empty before reading:\n",
        "\n",
        "import os\n",
        "if os.path.getsize(\"file.txt\") == 0:\n",
        "    print(\"File is empty\")\n",
        "\n"
      ],
      "metadata": {
        "id": "LIyLjmm8GhgF"
      },
      "execution_count": 49,
      "outputs": []
    },
    {
      "cell_type": "code",
      "source": [
        "#Q48. Log error when file handling fails:\n",
        "\n",
        "import logging\n",
        "logging.basicConfig(filename=\"errors.log\", level=logging.ERROR)\n",
        "try:\n",
        "    open(\"nofile.txt\")\n",
        "except FileNotFoundError as e:\n",
        "    logging.error(e)\n",
        "\n"
      ],
      "metadata": {
        "colab": {
          "base_uri": "https://localhost:8080/"
        },
        "id": "vF6RK2vEGmr_",
        "outputId": "0370537a-a9ea-4e2f-9656-da4c09a4138c"
      },
      "execution_count": 50,
      "outputs": [
        {
          "output_type": "stream",
          "name": "stderr",
          "text": [
            "ERROR:root:[Errno 2] No such file or directory: 'nofile.txt'\n"
          ]
        }
      ]
    }
  ]
}