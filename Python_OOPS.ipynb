{
  "nbformat": 4,
  "nbformat_minor": 0,
  "metadata": {
    "colab": {
      "provenance": []
    },
    "kernelspec": {
      "name": "python3",
      "display_name": "Python 3"
    },
    "language_info": {
      "name": "python"
    }
  },
  "cells": [
    {
      "cell_type": "markdown",
      "source": [
        "**Python OOPs Questions**\n"
      ],
      "metadata": {
        "id": "Jw3Bkoj5RubI"
      }
    },
    {
      "cell_type": "markdown",
      "source": [
        "**What is Object-Oriented Programming (OOP)?**\n",
        "\n",
        "Object-Oriented Programming (OOP) is a programming paradigm that uses \"objects\" to model real-world entities. Each object can contain data (attributes) and code (methods). OOP promotes code reusability, modularity, and scalability through concepts like encapsulation, inheritance, polymorphism, and abstraction.\n",
        "\n",
        "\n"
      ],
      "metadata": {
        "id": "z0MWmM7HR2cL"
      }
    },
    {
      "cell_type": "code",
      "source": [
        "class Car:\n",
        "    def __init__(self, brand):\n",
        "        self.brand = brand\n",
        "\n",
        "    def drive(self):\n",
        "        print(f\"{self.brand} is driving\")\n",
        "\n",
        "my_car = Car(\"Toyota\")\n",
        "my_car.drive()\n"
      ],
      "metadata": {
        "id": "_EwdnXlwR9pD"
      },
      "execution_count": null,
      "outputs": []
    },
    {
      "cell_type": "markdown",
      "source": [
        "**What is a class in OOP?**\n",
        "\n",
        "A class is a blueprint for creating objects. It defines a set of attributes and methods that the created objects will have."
      ],
      "metadata": {
        "id": "BZvW9ezPSDTf"
      }
    },
    {
      "cell_type": "code",
      "source": [
        "class Dog:\n",
        "    def __init__(self, name):\n",
        "        self.name = name\n",
        "\n",
        "    def bark(self):\n",
        "        print(f\"{self.name} says Woof!\")\n"
      ],
      "metadata": {
        "id": "8XAHFg96bXQj"
      },
      "execution_count": null,
      "outputs": []
    },
    {
      "cell_type": "markdown",
      "source": [
        "**What is an object in OOP?**\n",
        "\n",
        "An object is an instance of a class. It contains real values for the attributes defined in the class."
      ],
      "metadata": {
        "id": "sHwfgZZSSLyL"
      }
    },
    {
      "cell_type": "code",
      "source": [
        "dog1 = Dog(\"Buddy\")\n",
        "dog1.bark()  # Output: Buddy says Woof!\n"
      ],
      "metadata": {
        "id": "P1MiRPtCbucN"
      },
      "execution_count": null,
      "outputs": []
    },
    {
      "cell_type": "markdown",
      "source": [
        "**What is the difference between abstraction and encapsulation?**\n",
        "\n",
        "Abstraction hides implementation details and shows only the essential features whereas Encapsulation binds data and functions into a single unit and restricts access to some components.\n",
        "\n",
        "\n",
        "\n"
      ],
      "metadata": {
        "id": "uSj0thKrSYzy"
      }
    },
    {
      "cell_type": "markdown",
      "source": [
        "**What are dunder methods in Python?**\n",
        "\n",
        "Dunder methods (double underscore methods), like __init__, __str__, etc., are special methods used to define behavior of objects for built-in operations."
      ],
      "metadata": {
        "id": "Vb-3Lni0Sxxd"
      }
    },
    {
      "cell_type": "code",
      "source": [
        "class Person:\n",
        "    def __init__(self, name):\n",
        "        self.name = name\n",
        "\n",
        "    def __str__(self):\n",
        "        return f\"My name is {self.name}\"\n"
      ],
      "metadata": {
        "id": "PzZGj780b6Q0"
      },
      "execution_count": null,
      "outputs": []
    },
    {
      "cell_type": "markdown",
      "source": [
        "**Explain the concept of inheritance in OOP.**\n",
        "\n",
        "Inheritance allows a class to inherit attributes and methods from another class. The class that inherits is called the child class, and the one inherited from is the parent class."
      ],
      "metadata": {
        "id": "9LOogQ3ZTJGt"
      }
    },
    {
      "cell_type": "code",
      "source": [
        "class Animal:\n",
        "    def speak(self):\n",
        "        print(\"Animal speaks\")\n",
        "\n",
        "class Dog(Animal):\n",
        "    def speak(self):\n",
        "        print(\"Dog barks\")\n",
        "\n",
        "d = Dog()\n",
        "d.speak()  # Output: Dog barks\n"
      ],
      "metadata": {
        "id": "kK4csyTFb-HI"
      },
      "execution_count": null,
      "outputs": []
    },
    {
      "cell_type": "markdown",
      "source": [
        "**What is polymorphism in OOP?**\n",
        "\n",
        "Polymorphism in object-oriented programming (OOP) is the ability of an object to take on many forms. It allows objects of different classes to be treated as objects of a common type, enabling flexibility and code reuse."
      ],
      "metadata": {
        "id": "5aWr1XinTXs3"
      }
    },
    {
      "cell_type": "code",
      "source": [
        "class Bird:\n",
        "    def fly(self):\n",
        "        print(\"Flying high\")\n",
        "\n",
        "class Penguin(Bird):\n",
        "    def fly(self):\n",
        "        print(\"I can't fly\")\n",
        "\n",
        "def show_fly(bird):\n",
        "    bird.fly()\n",
        "\n",
        "show_fly(Bird())     # Flying high\n",
        "show_fly(Penguin())  # I can't fly\n"
      ],
      "metadata": {
        "id": "3RDEEQD9cCkE"
      },
      "execution_count": null,
      "outputs": []
    },
    {
      "cell_type": "markdown",
      "source": [
        "**How is encapsulation achieved in Python?**\n",
        "\n",
        "By making attributes private using underscores (_ or __) and providing getter and setter methods, it can be acheived."
      ],
      "metadata": {
        "id": "j7VmGvY1T4r7"
      }
    },
    {
      "cell_type": "code",
      "source": [
        "class Student:\n",
        "    def __init__(self):\n",
        "        self.__marks = 0\n",
        "\n",
        "    def set_marks(self, marks):\n",
        "        if 0 <= marks <= 100:\n",
        "            self.__marks = marks\n",
        "\n",
        "    def get_marks(self):\n",
        "        return self.__marks\n"
      ],
      "metadata": {
        "id": "CIrsg5yFcEKH"
      },
      "execution_count": null,
      "outputs": []
    },
    {
      "cell_type": "markdown",
      "source": [
        "**What is a constructor in Python?**\n",
        "\n",
        "A constructor is a special method __init__() used to initialize new objects."
      ],
      "metadata": {
        "id": "nbhTQfWLT7g1"
      }
    },
    {
      "cell_type": "code",
      "source": [
        "class Person:\n",
        "    def __init__(self, name):\n",
        "        self.name = name\n"
      ],
      "metadata": {
        "id": "1qB4FY7ccHff"
      },
      "execution_count": null,
      "outputs": []
    },
    {
      "cell_type": "markdown",
      "source": [
        "**What are class and static methods in Python?**\n",
        "\n",
        "Class methods use @classmethod and receive cls as the first parameter.\n",
        "\n",
        "Static methods use @staticmethod and don’t receive self or cls."
      ],
      "metadata": {
        "id": "VmAPzly3UEG9"
      }
    },
    {
      "cell_type": "code",
      "source": [
        "class Example:\n",
        "    count = 0\n",
        "\n",
        "    @classmethod\n",
        "    def increment(cls):\n",
        "        cls.count += 1\n",
        "\n",
        "    @staticmethod\n",
        "    def greet():\n",
        "        print(\"Hello!\")\n"
      ],
      "metadata": {
        "id": "a45COhwTcKft"
      },
      "execution_count": null,
      "outputs": []
    },
    {
      "cell_type": "markdown",
      "source": [
        "**What is method overloading in Python?**\n",
        "\n",
        "Method overloading in Python refers to the concept where a single method name can be used to perform different operations based on the number or type of arguments passed to it. Unlike some other object-oriented programming languages (like Java or C++), Python does not support direct method overloading by defining multiple methods with the same name but different parameter lists within a single class."
      ],
      "metadata": {
        "id": "ib6-2YhVVwyF"
      }
    },
    {
      "cell_type": "markdown",
      "source": [
        "**What is method overriding in OOP?**\n",
        "\n",
        "Method overriding allows a child class to provide a specific implementation of a method already defined in the parent class.\n",
        "\n",
        "\n"
      ],
      "metadata": {
        "id": "ruLg_KEzV5W8"
      }
    },
    {
      "cell_type": "markdown",
      "source": [
        "**What is a property decorator in Python?**\n",
        "\n",
        "A property decorator in Python, denoted by @property, is a built-in decorator that allows a method within a class to be accessed and managed as if it were an attribute. It provides a \"Pythonic\" way to implement getters, setters, and deleters for class attributes, encapsulating the logic associated with accessing, modifying, or deleting an attribute without directly exposing the underlying data."
      ],
      "metadata": {
        "id": "upqMjkmIWOOp"
      }
    },
    {
      "cell_type": "markdown",
      "source": [
        "**Why is polymorphism important in OOP?**\n",
        "\n",
        "Polymorphism allows code to be generalized and reusable. It enables a single function or interface to work with different types of objects.\n",
        "\n",
        "\n"
      ],
      "metadata": {
        "id": "xyLftVjGXDF9"
      }
    },
    {
      "cell_type": "markdown",
      "source": [
        "**What is an abstract class in Python?**\n",
        "\n",
        "An abstract class cannot be instantiated directly. It contains abstract methods that must be implemented in child classes. Use ABC module."
      ],
      "metadata": {
        "id": "2xdXEpCYXn_K"
      }
    },
    {
      "cell_type": "markdown",
      "source": [
        "**What are the advantages of OOP?**\n",
        "\n",
        "Code reuse through inheritance\n",
        "\n",
        "Logical structure and modularity\n",
        "\n",
        "Easier debugging and maintenance\n",
        "\n",
        "Encapsulation ensures data protection\n",
        "\n",
        "Polymorphism enables flexibility and extensibility\n",
        "\n"
      ],
      "metadata": {
        "id": "aatCDBEzXuBu"
      }
    },
    {
      "cell_type": "markdown",
      "source": [
        "**Difference between class variable and instance variable?**\n",
        "\n",
        "Class variable: Shared among all instances of the class.\n",
        "\n",
        "Instance variable: Unique to each object.\n",
        "\n",
        "example below"
      ],
      "metadata": {
        "id": "Z9jBBtX4X4S2"
      }
    },
    {
      "cell_type": "code",
      "source": [
        "class Car:\n",
        "    wheels = 4  # Class variable\n",
        "\n",
        "    def __init__(self, color):\n",
        "        self.color = color  # Instance variable\n"
      ],
      "metadata": {
        "id": "COvRp8xEX9zv"
      },
      "execution_count": 1,
      "outputs": []
    },
    {
      "cell_type": "markdown",
      "source": [
        "**What is multiple inheritance in Python?**\n",
        "\n",
        "When a class inherits from more than one parent class.\n",
        "\n"
      ],
      "metadata": {
        "id": "ZufysZLFYK5s"
      }
    },
    {
      "cell_type": "code",
      "source": [
        "class A:\n",
        "    def method(self):\n",
        "        print(\"A\")\n",
        "\n",
        "class B:\n",
        "    def method(self):\n",
        "        print(\"B\")\n",
        "\n",
        "class C(A, B):\n",
        "    pass\n",
        "\n",
        "c = C()\n",
        "c.method()  # Output: A (because of MRO)\n"
      ],
      "metadata": {
        "colab": {
          "base_uri": "https://localhost:8080/"
        },
        "id": "ggo29M42YPf8",
        "outputId": "3f234020-ef3b-47aa-be98-889ef56dba0e"
      },
      "execution_count": 2,
      "outputs": [
        {
          "output_type": "stream",
          "name": "stdout",
          "text": [
            "A\n"
          ]
        }
      ]
    },
    {
      "cell_type": "markdown",
      "source": [
        "**Purpose of __str__ and __repr__ methods in Python?**\n",
        "\n",
        "__str__: Returns a readable string (used by print()).\n",
        "\n",
        "__repr__: Returns a formal string, often for debugging."
      ],
      "metadata": {
        "id": "T_h-fCtMYXAI"
      }
    },
    {
      "cell_type": "code",
      "source": [
        "class Book:\n",
        "    def __str__(self):\n",
        "        return \"Readable\"\n",
        "\n",
        "    def __repr__(self):\n",
        "        return \"Debug Info\"\n"
      ],
      "metadata": {
        "id": "ZbFJHat1YdBH"
      },
      "execution_count": null,
      "outputs": []
    },
    {
      "cell_type": "markdown",
      "source": [
        "**What is the significance of the super() function in Python?**\n",
        "\n",
        "super() is used to call methods from a parent class, especially during method overriding."
      ],
      "metadata": {
        "id": "uZcYQgt5Yd7y"
      }
    },
    {
      "cell_type": "code",
      "source": [
        "class Parent:\n",
        "    def greet(self):\n",
        "        print(\"Hello from Parent\")\n",
        "\n",
        "class Child(Parent):\n",
        "    def greet(self):\n",
        "        super().greet()\n",
        "        print(\"Hello from Child\")\n"
      ],
      "metadata": {
        "id": "VD-fcAGwYmxB"
      },
      "execution_count": null,
      "outputs": []
    },
    {
      "cell_type": "markdown",
      "source": [
        "**What is the significance of the __del__ method in Python?**\n",
        "\n",
        "__del__ is a destructor method called when an object is about to be destroyed."
      ],
      "metadata": {
        "id": "sPMWGjrsYp4O"
      }
    },
    {
      "cell_type": "code",
      "source": [
        "class Demo:\n",
        "    def __del__(self):\n",
        "        print(\"Object destroyed\")\n"
      ],
      "metadata": {
        "id": "tSN2Zs46Yzu8"
      },
      "execution_count": 3,
      "outputs": []
    },
    {
      "cell_type": "markdown",
      "source": [
        "**Difference between @staticmethod and @classmethod?**\n",
        "\n",
        "The difference between the Class method and the static method is:\n",
        "\n",
        "**1.** A class method takes cls as the first parameter while a static method needs no specific parameters.\n",
        "\n",
        "**2.** A class method can access or modify the class state while a static method can't access or modify it.\n",
        "\n",
        "**3.** We use @classmethod decorator in python to create a class method and we use @staticmethod decorator to create a static method in python.\n",
        "\n",
        "\n"
      ],
      "metadata": {
        "id": "1SIzSh1zY4bA"
      }
    },
    {
      "cell_type": "markdown",
      "source": [
        "**How does polymorphism work in Python with inheritance?**\n",
        "\n",
        "Through method overriding: the child class redefines the parent method.\n"
      ],
      "metadata": {
        "id": "IkJAFBj8Zx3A"
      }
    },
    {
      "cell_type": "code",
      "source": [
        "class Shape:\n",
        "    def draw(self):\n",
        "        print(\"Drawing shape\")\n",
        "\n",
        "class Circle(Shape):\n",
        "    def draw(self):\n",
        "        print(\"Drawing circle\")\n"
      ],
      "metadata": {
        "id": "dfZ5HJc_Z6jK"
      },
      "execution_count": null,
      "outputs": []
    },
    {
      "cell_type": "markdown",
      "source": [
        "**What is method chaining in Python OOP?**\n",
        "\n",
        "It means calling multiple methods on the same object in a single line by returning self."
      ],
      "metadata": {
        "id": "p0L3xL8OZ8RE"
      }
    },
    {
      "cell_type": "code",
      "source": [
        "class Builder:\n",
        "    def __init__(self):\n",
        "        self.text = \"\"\n",
        "\n",
        "    def add_hello(self):\n",
        "        self.text += \"Hello \"\n",
        "        return self\n",
        "\n",
        "    def add_world(self):\n",
        "        self.text += \"World!\"\n",
        "        return self\n",
        "\n",
        "b = Builder()\n",
        "print(b.add_hello().add_world().text)  # Output: Hello World!\n"
      ],
      "metadata": {
        "colab": {
          "base_uri": "https://localhost:8080/"
        },
        "id": "br49wk_qaA59",
        "outputId": "1f2eeda6-f5cd-47cf-8b2a-5063fdd2d158"
      },
      "execution_count": 4,
      "outputs": [
        {
          "output_type": "stream",
          "name": "stdout",
          "text": [
            "Hello World!\n"
          ]
        }
      ]
    },
    {
      "cell_type": "markdown",
      "source": [
        "**What is the purpose of the __call__ method in Python?**\n",
        "\n",
        "It allows an object to be called like a function.\n",
        "\n"
      ],
      "metadata": {
        "id": "pqdwC3B4abh5"
      }
    },
    {
      "cell_type": "code",
      "source": [
        "class Greet:\n",
        "    def __call__(self, name):\n",
        "        print(f\"Hello, {name}!\")\n",
        "\n",
        "g = Greet()\n",
        "g(\"Alice\")  # Output: Hello, Alice!\n"
      ],
      "metadata": {
        "colab": {
          "base_uri": "https://localhost:8080/"
        },
        "id": "9024AFIdafp1",
        "outputId": "0a57e891-7b13-48e3-c00f-43f4e6a17799"
      },
      "execution_count": 5,
      "outputs": [
        {
          "output_type": "stream",
          "name": "stdout",
          "text": [
            "Hello, Alice!\n"
          ]
        }
      ]
    },
    {
      "cell_type": "markdown",
      "source": [
        "#Practical Questions\n"
      ],
      "metadata": {
        "id": "cZkuD1Dtcp1l"
      }
    },
    {
      "cell_type": "code",
      "source": [
        "#Create a parent class Animal with a method speak() that prints a generic message. Create a child class Dog that overrides the speak() method to print \"Bark!\".\n",
        "\n",
        "class Animal:\n",
        "    def speak(self):\n",
        "        print(\"Animal speaks\")\n",
        "\n",
        "class Dog(Animal):\n",
        "    def speak(self):\n",
        "        print(\"Dog barks\")\n",
        "\n",
        "d = Dog()\n",
        "d.speak()  # Output: Dog barks\n",
        "\n"
      ],
      "metadata": {
        "colab": {
          "base_uri": "https://localhost:8080/"
        },
        "id": "tPPT2pMEcrpt",
        "outputId": "1166612c-11f7-4d95-c405-7c0a80e79e36"
      },
      "execution_count": 6,
      "outputs": [
        {
          "output_type": "stream",
          "name": "stdout",
          "text": [
            "Dog barks\n"
          ]
        }
      ]
    },
    {
      "cell_type": "code",
      "source": [
        "# Write a program to create an abstract class Shape with a method area(). Derive classes Circle and Rectangle from it and implement the area() method in both..\n",
        "\n",
        "from abc import ABC, abstractmethod\n",
        "import math\n",
        "\n",
        "class Shape(ABC):\n",
        "    @abstractmethod\n",
        "    def area(self):\n",
        "        pass\n",
        "\n",
        "class Circle(Shape):\n",
        "    def __init__(self, radius):\n",
        "        self.radius = radius\n",
        "    def area(self):\n",
        "        return math.pi * self.radius ** 2\n",
        "\n",
        "class Rectangle(Shape):\n",
        "    def __init__(self, width, height):\n",
        "        self.width = width\n",
        "        self.height = height\n",
        "    def area(self):\n",
        "        return self.width * self.height\n"
      ],
      "metadata": {
        "id": "61Oul6fVc84v"
      },
      "execution_count": 33,
      "outputs": []
    },
    {
      "cell_type": "code",
      "source": [
        "#Implement a multi-level inheritance scenario where a class Vehicle has an attribute type. Derive a class Car and further derive a class ElectricCar that adds a battery attribute.\n",
        "\n",
        "class Vehicle:\n",
        "    def __init__(self, vehicle_type):\n",
        "        self.type = vehicle_type\n",
        "\n",
        "class Car(Vehicle):\n",
        "    def __init__(self, vehicle_type, brand):\n",
        "        super().__init__(vehicle_type)\n",
        "        self.brand = brand\n",
        "\n",
        "class ElectricCar(Car):\n",
        "    def __init__(self, vehicle_type, brand, battery):\n",
        "        super().__init__(vehicle_type, brand)\n",
        "        self.battery = battery\n"
      ],
      "metadata": {
        "id": "nVcWS1SudNn2"
      },
      "execution_count": 34,
      "outputs": []
    },
    {
      "cell_type": "code",
      "source": [
        "# Demonstrate polymorphism by creating a base class Bird with a method fly(). Create two derived classes Sparrow and Penguin that override the fly() method.\n",
        "\n",
        "class Bird:\n",
        "    def fly(self):\n",
        "        print(\"Flying high\")\n",
        "\n",
        "class Penguin(Bird):\n",
        "    def fly(self):\n",
        "        print(\"I can't fly\")\n",
        "\n",
        "def show_fly(bird):\n",
        "    bird.fly()"
      ],
      "metadata": {
        "id": "u3z32naAdUwL"
      },
      "execution_count": 15,
      "outputs": []
    },
    {
      "cell_type": "code",
      "source": [
        "# Write a program to demonstrate encapsulation by creating a class BankAccount with private attributes balance and methods to deposit, withdraw, and check balance.\n",
        "\n",
        "class BankAccount:\n",
        "    def __init__(self):\n",
        "        self.__balance = 0\n",
        "\n",
        "    def deposit(self, amount):\n",
        "        self.__balance += amount\n",
        "\n",
        "    def withdraw(self, amount):\n",
        "        if amount <= self.__balance:\n",
        "            self.__balance -= amount\n",
        "\n",
        "    def check_balance(self):\n",
        "        return self.__balance\n"
      ],
      "metadata": {
        "id": "DydKrZbxdYa9"
      },
      "execution_count": 16,
      "outputs": []
    },
    {
      "cell_type": "code",
      "source": [
        "# Demonstrate runtime polymorphism using a method play() in a base class Instrument. Derive classes Guitar and Piano that implement their own version of play()..\n",
        "\n",
        "class Instrument:\n",
        "    def play(self):\n",
        "        print(\"Instrument playing\")\n",
        "\n",
        "class Guitar(Instrument):\n",
        "    def play(self):\n",
        "        print(\"Strumming Guitar\")\n",
        "\n",
        "class Piano(Instrument):\n",
        "    def play(self):\n",
        "        print(\"Playing Piano\")\n",
        "\n",
        "for inst in [Guitar(), Piano()]:\n",
        "    inst.play()\n"
      ],
      "metadata": {
        "colab": {
          "base_uri": "https://localhost:8080/"
        },
        "id": "khA1nKh0c_5m",
        "outputId": "d56978d0-61ca-4d99-b73a-7350aa19a198"
      },
      "execution_count": 18,
      "outputs": [
        {
          "output_type": "stream",
          "name": "stdout",
          "text": [
            "Strumming Guitar\n",
            "Playing Piano\n"
          ]
        }
      ]
    },
    {
      "cell_type": "code",
      "source": [
        "#MathOperations with class and static methods\n",
        "\n",
        "class MathOperations:\n",
        "    @classmethod\n",
        "    def add_numbers(cls, a, b):\n",
        "        return a + b\n",
        "\n",
        "    @staticmethod\n",
        "    def subtract_numbers(a, b):\n",
        "        return a - b\n",
        "\n"
      ],
      "metadata": {
        "id": "0pXlqUCwdthJ"
      },
      "execution_count": 20,
      "outputs": []
    },
    {
      "cell_type": "code",
      "source": [
        "#Person class with counter using class method\n",
        "\n",
        "class Person:\n",
        "    count = 0\n",
        "    def __init__(self):\n",
        "        Person.count += 1\n",
        "\n",
        "    @classmethod\n",
        "    def total_persons(cls):\n",
        "        return cls.count\n"
      ],
      "metadata": {
        "id": "uR7gOi6Vdxo1"
      },
      "execution_count": 21,
      "outputs": []
    },
    {
      "cell_type": "code",
      "source": [
        "# Write a class Fraction with attributes numerator and denominator. Override the str method to display the fraction as \"numerator/denominator\".\n",
        "\n",
        "class Fraction:\n",
        "    def __init__(self, numerator, denominator):\n",
        "        self.numerator = numerator\n",
        "        self.denominator = denominator\n",
        "\n",
        "    def __str__(self):\n",
        "        return f\"{self.numerator}/{self.denominator}\"\n",
        "\n"
      ],
      "metadata": {
        "id": "FtQvpn2id4Ho"
      },
      "execution_count": 23,
      "outputs": []
    },
    {
      "cell_type": "code",
      "source": [
        "# Demonstrate operator overloading by creating a class Vector and overriding the add method to add two vectors\n",
        "\n",
        "class Vector:\n",
        "    def __init__(self, x, y):\n",
        "        self.x = x\n",
        "        self.y = y\n",
        "\n",
        "    def __add__(self, other):\n",
        "        return Vector(self.x + other.x, self.y + other.y)\n",
        "\n",
        "    def __str__(self):\n",
        "        return f\"Vector({self.x}, {self.y})\"\n"
      ],
      "metadata": {
        "id": "BcMiaaHNd-P-"
      },
      "execution_count": 24,
      "outputs": []
    },
    {
      "cell_type": "code",
      "source": [
        "#Create a class Person with attributes name and age. Add a method greet() that prints \"Hello, my name is {name} and I am {age} years old.\"\n",
        "\n",
        "class Person:\n",
        "    def __init__(self, name, age):\n",
        "        self.name = name\n",
        "        self.age = age\n",
        "\n",
        "    def greet(self):\n",
        "        print(f\"Hello, my name is {self.name} and I am {self.age} years old.\")\n"
      ],
      "metadata": {
        "id": "7f5o-0SUeEz9"
      },
      "execution_count": 25,
      "outputs": []
    },
    {
      "cell_type": "code",
      "source": [
        "# Implement a class Student with attributes name and grades. Create a method average_grade() to compute the average of the grades.\n",
        "\n",
        "class Student:\n",
        "    def __init__(self, name, grades):\n",
        "        self.name = name\n",
        "        self.grades = grades\n",
        "\n",
        "    def average_grade(self):\n",
        "        return sum(self.grades) / len(self.grades)\n"
      ],
      "metadata": {
        "id": "L30PQfGpeIUe"
      },
      "execution_count": 26,
      "outputs": []
    },
    {
      "cell_type": "code",
      "source": [
        "# Create a class Rectangle with methods set_dimensions() to set the dimensions and area() to calculate the area.\n",
        "\n",
        "class Rectangle:\n",
        "    def set_dimensions(self, width, height):\n",
        "        self.width = width\n",
        "        self.height = height\n",
        "\n",
        "    def area(self):\n",
        "        return self.width * self.height\n"
      ],
      "metadata": {
        "id": "EnWoP4afeNac"
      },
      "execution_count": 27,
      "outputs": []
    },
    {
      "cell_type": "code",
      "source": [
        "#Create a class Employee with a method calculate_salary() that computes the salary based on hours worked and hourly rate. Create a derived class Manager that adds a bonus to the salary.\n",
        "\n",
        "class Employee:\n",
        "    def calculate_salary(self, hours, rate):\n",
        "        return hours * rate\n",
        "\n",
        "class Manager(Employee):\n",
        "    def calculate_salary(self, hours, rate, bonus):\n",
        "        base = super().calculate_salary(hours, rate)\n",
        "        return base + bonus\n"
      ],
      "metadata": {
        "id": "Z4z9U4KOeRzf"
      },
      "execution_count": 28,
      "outputs": []
    },
    {
      "cell_type": "code",
      "source": [
        "# Create a class Product with attributes name, price, and quantity. Implement a method total_price() that calculates the total price of the product.\n",
        "\n",
        "class Product:\n",
        "    def __init__(self, name, price, quantity):\n",
        "        self.name = name\n",
        "        self.price = price\n",
        "        self.quantity = quantity\n",
        "\n",
        "    def total_price(self):\n",
        "        return self.price * self.quantity\n"
      ],
      "metadata": {
        "id": "b81y1yU_eU0N"
      },
      "execution_count": 29,
      "outputs": []
    },
    {
      "cell_type": "code",
      "source": [
        "#Create a class Animal with an abstract method sound(). Create two derived classes Cow and Sheep thatimplement the sound() method.\n",
        "\n",
        "from abc import ABC, abstractmethod\n",
        "\n",
        "class Animal(ABC):\n",
        "    @abstractmethod\n",
        "    def sound(self):\n",
        "        pass\n",
        "\n",
        "class Cow(Animal):\n",
        "    def sound(self):\n",
        "        return \"Moo\"\n",
        "\n",
        "class Sheep(Animal):\n",
        "    def sound(self):\n",
        "        return \"Baa\"\n",
        "\n"
      ],
      "metadata": {
        "id": "21W8Bg83eYzu"
      },
      "execution_count": 30,
      "outputs": []
    },
    {
      "cell_type": "code",
      "source": [
        "# Create a class Book with attributes title, author, and year_published. Add a method get_book_info() that returns a formatted string with the book's details.\n",
        "\n",
        "class Book:\n",
        "    def __init__(self, title, author, year_published):\n",
        "        self.title = title\n",
        "        self.author = author\n",
        "        self.year_published = year_published\n",
        "\n",
        "    def get_book_info(self):\n",
        "        return f\"{self.title} by {self.author} ({self.year_published})\"\n"
      ],
      "metadata": {
        "id": "ppmbmMMped3n"
      },
      "execution_count": 31,
      "outputs": []
    },
    {
      "cell_type": "code",
      "source": [
        "#Create a class House with attributes address and price. Create a derived class Mansion that adds an attribute number_of_rooms.\n",
        "\n",
        "class House:\n",
        "    def __init__(self, address, price):\n",
        "        self.address = address\n",
        "        self.price = price\n",
        "\n",
        "class Mansion(House):\n",
        "    def __init__(self, address, price, number_of_rooms):\n",
        "        super().__init__(address, price)\n",
        "        self.number_of_rooms = number_of_rooms\n"
      ],
      "metadata": {
        "id": "M4GTBpAWejMk"
      },
      "execution_count": 32,
      "outputs": []
    }
  ]
}