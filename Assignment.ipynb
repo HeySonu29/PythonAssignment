{
 "cells": [
  {
   "cell_type": "raw",
   "id": "b7ae50f4-e967-48bd-9f91-dd1d98a370f4",
   "metadata": {},
   "source": [
    "#Python Basic Assignment\n",
    "\n",
    "1.  What is Python, and why is it popular?\n",
    "Python is a high level programming langauage known for simplicity and readability. this programming language is mostly used in the web development, data analysis and automoation.\n",
    "\n",
    "It is mainly popular because of its readibility and simplicity, its syntatx are easy to use and remember and it has huge library to collect and store the data."
   ]
  },
  {
   "cell_type": "raw",
   "id": "12885a22-3b30-4724-8af0-28b6f5363e20",
   "metadata": {},
   "source": [
    "2. What is an interpretor in Python?\n",
    "   \n",
    "   An interpretor's job is basically to convert source code into the machine level language and give us the desired output. It is also considered as tranlator for Programming Languages.\n",
    "   Lets take and example below.\n",
    "   \n",
    "   Here is the simple Python program that takes two inputs as a and b and prints the poduct in the third variable which is c, in a sequential manner that would machine understands.\n",
    "a = 9\n",
    "b = 6\n",
    "c = a * b\n",
    "print(c) #output 54"
   ]
  },
  {
   "cell_type": "raw",
   "id": "7adebee1-c339-493a-82ff-f46b15abba6d",
   "metadata": {},
   "source": [
    "3. What are the predefined keywords in Python?\n",
    "\n",
    ".Python keywords are reserve words that can not be used as variables name or function names. For ex- and, as, def, for, from, with etc."
   ]
  },
  {
   "cell_type": "raw",
   "id": "49298ea2-ea8d-4fe4-b6ac-8d557496abaa",
   "metadata": {},
   "source": [
    "4.Can keywords be used as variable names?\n",
    "As discussed above, we can not use the keywords as variable as they are reserve words and part of language syntax itself. if we try to print it, we will get the 'invalid syntax error.'"
   ]
  },
  {
   "cell_type": "code",
   "execution_count": null,
   "id": "5f105c2e-af0e-47cb-b2b6-77939829e44c",
   "metadata": {},
   "outputs": [],
   "source": []
  },
  {
   "cell_type": "raw",
   "id": "efc40f54-8590-4be7-81df-61bf29bfcc56",
   "metadata": {},
   "source": [
    "5. What is mutability in Python \n",
    "if an object can be changed,altered or modified it will be considered as mutable. For example- dict, set or list "
   ]
  },
  {
   "cell_type": "raw",
   "id": "f39bca1f-49c8-4c90-b11d-37f22b81cf2c",
   "metadata": {},
   "source": [
    "6. Why are lists mutable and tuples are immutable?\n",
    "\n",
    "Lists are meant for dynamic data, its content can be altered or modified based on the requirement as the list does not follow any structure or sequence contrary to that tuples are static and a fixed collection of items."
   ]
  },
  {
   "cell_type": "raw",
   "id": "f3895b5f-32bb-4094-a8c5-198e96ccff54",
   "metadata": {},
   "source": [
    "7.What is the difference between “==” and “is” operators in Python?\n",
    "The == operator checks for value equality, while the is operator checks for identity (whether two references point to the same object in memory).a== b means a and b have the same content while a is b means a is exactly same as B."
   ]
  },
  {
   "cell_type": "raw",
   "id": "6f0134e1-6b51-4909-a1f7-254c4b19a161",
   "metadata": {},
   "source": [
    "8.What are logical operators in Python?\n",
    "Logical operators in Python are used to combine conditional statements and control the flow of logic in expressions. There are three main logical operators:1. \"and\" - Returns True if both conditions are True\n",
    "          2. \"or\" - Retursn True if one of the conditions are true\n",
    "          3. \"not\" - makes the true becomes false when added in the condition"
   ]
  },
  {
   "cell_type": "raw",
   "id": "36d6ab6d-e99a-4a0b-a98a-642f32760e16",
   "metadata": {},
   "source": [
    "9. What is type casting in Python?\n",
    "Type casting is the process of converting one data type into another either implicitly or explicitily. For example-\n",
    "\n",
    "a = \"9\"\n",
    "b = int(a)      # '9' (str) → 9 (int)\n",
    "print(b + 5)    # Output: 14"
   ]
  },
  {
   "cell_type": "raw",
   "id": "a69694a6-8a5b-4785-b187-185a8efe5fcb",
   "metadata": {},
   "source": [
    "10.What is the difference between implicit and explicit type casting?\n",
    "When a data type is converted into another data type by the Python itself, it is called as Implicit Type Casting whereas where you do the manual intervention to convert the data type it is called as Explicit casting.Below are the examples for both.\n",
    "\n",
    "Name\t         Who Does It\tExample\n",
    "Explicit casting\tYou\t         int(\"5\") → 5\n",
    "Implicit casting\tPython\t      5 + 2.0 → 7.0 (float)"
   ]
  },
  {
   "cell_type": "raw",
   "id": "c51cf7ab-3162-4482-9106-6ee784861d1e",
   "metadata": {},
   "source": [
    "11. What is the purpose of conditional statements in Python?\n",
    "Conditional statements in Python is used to set up a condition to control the flow of a program based on whether a condition is True or False.\n",
    "\n"
   ]
  },
  {
   "cell_type": "raw",
   "id": "4d248c09-520f-4a74-b368-35d266dae136",
   "metadata": {},
   "source": [
    "12.How does the elif statement work ?\n",
    "\n",
    "In the Elif also known as elseif statement, Python checks the multiple conditions, one after another and after initial statement (if) fails, it moves to next statement and once it reaches the correct elif statement, it prints that particular statement and skips the rest of the statement.\n",
    "here is an ex below-\n",
    "\n",
    "score = 75\n",
    "\n",
    "if score >= 90:\n",
    "    print(\"Grade: A\")\n",
    "elif score >= 80:\n",
    "    print(\"Grade: B\")\n",
    "elif score >= 70:\n",
    "    print(\"Grade: C\")\n",
    "else:\n",
    "    print(\"Grade: F\")\n"
   ]
  },
  {
   "cell_type": "raw",
   "id": "a5968811-d193-4f8f-8a78-37e74ad6d424",
   "metadata": {},
   "source": [
    "13.What is the difference between for and while loops?\n",
    "For Loop is used when we are aware that exactly how many times we have to repeat the condition and we have already set or defined the limit in a list, range or string).\n",
    "Whereas, while loop is used when you want to repeat something until a sepecific condition is met and you are not aware that how many repeations it may take.\n",
    "For Loop- \n",
    "for i in range(5):\n",
    "    print(i)\n",
    "Output-\n",
    "0\n",
    "1\n",
    "2\n",
    "3\n",
    "4\n",
    "While Loop-\n",
    "i = 0\n",
    "while i < 5:\n",
    "    print(i)\n",
    "    i += 1\n",
    "\n",
    "0\n",
    "1\n",
    "2\n",
    "3\n",
    "4"
   ]
  },
  {
   "cell_type": "raw",
   "id": "dd5fd58a-06a6-4078-8530-d5cb6f851808",
   "metadata": {},
   "source": [
    "15.Describe a scenario where a while loop is more suitable than a for loop.\n",
    "\n",
    "While loop is suitable in conditions where it is uncertain that for how many times we need to run the loop to get the desired output.\n",
    "Lets try to understand it by an example-\n",
    "Imagine there is dice that has to be roll until we get 6. \n",
    "Syntax for this will be followed as below:-\n",
    "\n",
    "import random\n",
    "\n",
    "roll = 0\n",
    "attempts = 0\n",
    "\n",
    "while roll != 6:\n",
    "    roll = random.randint(1, 6)\n",
    "    attempts += 1\n",
    "    print(f\"Roll {attempts}: You got a {roll}\")\n",
    "\n",
    "print(\"You rolled a 6! Game over.\")\n",
    "\n",
    "Here, we have to use 'while' instead of 'for' because it is uncertain that how many times we will have to roll the dice to get the 6, We can get it in one go or it may take 100 attempts to get it"
   ]
  },
  {
   "cell_type": "code",
   "execution_count": 12,
   "id": "a293cc0c-2186-42bc-b4e2-a92a33f4811b",
   "metadata": {},
   "outputs": [],
   "source": [
    "import builtins\n",
    "print = builtins.print"
   ]
  },
  {
   "cell_type": "code",
   "execution_count": 15,
   "id": "60bbd26a-51e0-48b6-803b-ce8ab3305fa8",
   "metadata": {},
   "outputs": [
    {
     "name": "stdout",
     "output_type": "stream",
     "text": [
      "Hello, World!\n"
     ]
    }
   ],
   "source": [
    "#Write a Python program to print \"Hello, World!\"\n",
    "\n",
    "print(\"Hello, World!\")"
   ]
  },
  {
   "cell_type": "code",
   "execution_count": 19,
   "id": "50cb718a-eb1f-49a2-b252-76be473adc8f",
   "metadata": {},
   "outputs": [
    {
     "name": "stdout",
     "output_type": "stream",
     "text": [
      "My name is Sonu and my age is 28.\n"
     ]
    }
   ],
   "source": [
    "#Write a Python program that displays your name and age.\n",
    "name= 'Sonu'\n",
    "age = 28\n",
    "\n",
    "print(f'My name is {name} and my age is {age}.')"
   ]
  },
  {
   "cell_type": "code",
   "execution_count": 22,
   "id": "76f165b9-f626-4e33-aa7d-cf64907dd02b",
   "metadata": {},
   "outputs": [
    {
     "name": "stdout",
     "output_type": "stream",
     "text": [
      "\n",
      "Here is a list of the Python keywords.  Enter any keyword to get more help.\n",
      "\n",
      "False               class               from                or\n",
      "None                continue            global              pass\n",
      "True                def                 if                  raise\n",
      "and                 del                 import              return\n",
      "as                  elif                in                  try\n",
      "assert              else                is                  while\n",
      "async               except              lambda              with\n",
      "await               finally             nonlocal            yield\n",
      "break               for                 not                 \n",
      "\n"
     ]
    }
   ],
   "source": [
    "#Write code to print all the pre-defined keywords in Python using the keyword library\n",
    "\n",
    "help('keywords')"
   ]
  },
  {
   "cell_type": "code",
   "execution_count": 27,
   "id": "e8acae5b-564b-48ef-ba0e-9f529f11bde0",
   "metadata": {},
   "outputs": [
    {
     "name": "stdin",
     "output_type": "stream",
     "text": [
      "Enter a word:  if\n"
     ]
    },
    {
     "name": "stdout",
     "output_type": "stream",
     "text": [
      "'if' is a Python keyword.\n"
     ]
    }
   ],
   "source": [
    "#Write a program that checks if a given word is a Python keyword.\n",
    "\n",
    "import keyword\n",
    "\n",
    "word = input(\"Enter a word: \")\n",
    "\n",
    "if keyword.iskeyword(word):\n",
    "    print(f\"'{word}' is a Python keyword.\")\n",
    "else:\n",
    "    print(f\"'{word}' is NOT a Python keyword.\")\n"
   ]
  },
  {
   "cell_type": "code",
   "execution_count": 45,
   "id": "9bc65e8c-938b-40e9-a351-05db9faa5c70",
   "metadata": {},
   "outputs": [
    {
     "name": "stdout",
     "output_type": "stream",
     "text": [
      "Original list: [10, 20, 30]\n",
      "Modified list: [10, 99, 30]\n",
      "Original tuple: (10, 20, 30)\n"
     ]
    },
    {
     "ename": "TypeError",
     "evalue": "'tuple' object does not support item assignment",
     "output_type": "error",
     "traceback": [
      "\u001b[1;31m---------------------------------------------------------------------------\u001b[0m",
      "\u001b[1;31mTypeError\u001b[0m                                 Traceback (most recent call last)",
      "Cell \u001b[1;32mIn[45], line 17\u001b[0m\n\u001b[0;32m     14\u001b[0m \u001b[38;5;28mprint\u001b[39m(\u001b[38;5;124m\"\u001b[39m\u001b[38;5;124mOriginal tuple:\u001b[39m\u001b[38;5;124m\"\u001b[39m, my_tuple)\n\u001b[0;32m     16\u001b[0m \u001b[38;5;66;03m# Attempting to change an element in the tuple (this will cause an error)\u001b[39;00m\n\u001b[1;32m---> 17\u001b[0m my_tuple[\u001b[38;5;241m1\u001b[39m] \u001b[38;5;241m=\u001b[39m \u001b[38;5;241m99\u001b[39m\n",
      "\u001b[1;31mTypeError\u001b[0m: 'tuple' object does not support item assignment"
     ]
    }
   ],
   "source": [
    "#5.Create a list and tuple in Python, and demonstrate how attempting to change an element works differentlyfor each.\n",
    "\n",
    "# Creating a list\n",
    "my_list = [10, 20, 30]\n",
    "print(\"Original list:\", my_list)\n",
    "\n",
    "# Changing an element in the list (this works)\n",
    "my_list[1] = 99\n",
    "print(\"Modified list:\", my_list)\n",
    "\n",
    "\n",
    "# Creating a tuple\n",
    "my_tuple = (10, 20, 30)\n",
    "print(\"Original tuple:\", my_tuple)\n",
    "\n",
    "# Attempting to change an element in the tuple (this will cause an error)\n",
    "my_tuple[1] = 99   # This line will raise: TypeError\n"
   ]
  },
  {
   "cell_type": "code",
   "execution_count": 5,
   "id": "452277df-1457-435f-aa0c-2f076839ae00",
   "metadata": {},
   "outputs": [],
   "source": [
    "#Write a function to demonstrate the behavior of mutable and immutable arguments.\n"
   ]
  },
  {
   "cell_type": "code",
   "execution_count": 19,
   "id": "bd6b6956-4006-4e71-9dd6-db8d13cc6448",
   "metadata": {},
   "outputs": [
    {
     "data": {
      "text/plain": [
       "[1, 2, 3, 'Ram']"
      ]
     },
     "execution_count": 19,
     "metadata": {},
     "output_type": "execute_result"
    }
   ],
   "source": [
    "List = [1,2,3,'Ram']\n",
    "\n",
    "List"
   ]
  },
  {
   "cell_type": "code",
   "execution_count": 20,
   "id": "68e09822-255b-4329-833a-ae0f5b64ecba",
   "metadata": {},
   "outputs": [],
   "source": [
    "#Mutability\n",
    "List[-1] = 'Rahul'"
   ]
  },
  {
   "cell_type": "code",
   "execution_count": 21,
   "id": "83e0435a-d4d5-4c7a-a1fd-f1e8c3ba75d2",
   "metadata": {},
   "outputs": [
    {
     "data": {
      "text/plain": [
       "[1, 2, 3, 'Rahul']"
      ]
     },
     "execution_count": 21,
     "metadata": {},
     "output_type": "execute_result"
    }
   ],
   "source": [
    "List"
   ]
  },
  {
   "cell_type": "code",
   "execution_count": null,
   "id": "d5177b20-7ff2-4de3-ba4a-dc86e4113e05",
   "metadata": {},
   "outputs": [],
   "source": [
    "#As you see in the above example, Since list is a mutable object, we were able to change the objects.\n"
   ]
  },
  {
   "cell_type": "code",
   "execution_count": 22,
   "id": "5e03f2ce-9740-4615-b772-37be5506eb06",
   "metadata": {},
   "outputs": [
    {
     "data": {
      "text/plain": [
       "'Rahul'"
      ]
     },
     "execution_count": 22,
     "metadata": {},
     "output_type": "execute_result"
    }
   ],
   "source": [
    "K = 'Rahul'\n",
    "K"
   ]
  },
  {
   "cell_type": "code",
   "execution_count": 23,
   "id": "d0d4b574-62cd-4612-b1df-4b48610e69b0",
   "metadata": {},
   "outputs": [
    {
     "ename": "TypeError",
     "evalue": "'str' object does not support item assignment",
     "output_type": "error",
     "traceback": [
      "\u001b[1;31m---------------------------------------------------------------------------\u001b[0m",
      "\u001b[1;31mTypeError\u001b[0m                                 Traceback (most recent call last)",
      "Cell \u001b[1;32mIn[23], line 2\u001b[0m\n\u001b[0;32m      1\u001b[0m \u001b[38;5;66;03m#Immutability\u001b[39;00m\n\u001b[1;32m----> 2\u001b[0m K[\u001b[38;5;241m-\u001b[39m\u001b[38;5;241m1\u001b[39m]\u001b[38;5;241m=\u001b[39m \u001b[38;5;124m'\u001b[39m\u001b[38;5;124mS\u001b[39m\u001b[38;5;124m'\u001b[39m\n",
      "\u001b[1;31mTypeError\u001b[0m: 'str' object does not support item assignment"
     ]
    }
   ],
   "source": [
    "#Immutability\n",
    "K[-1]= 'S'"
   ]
  },
  {
   "cell_type": "code",
   "execution_count": null,
   "id": "5df72695-c21d-420d-a7a3-e7ba2159e512",
   "metadata": {},
   "outputs": [],
   "source": [
    "#As you can see that here we are unable to make the change in the object because String is an immutable object \n",
    "#contrary to the list which is immutable object."
   ]
  },
  {
   "cell_type": "code",
   "execution_count": null,
   "id": "79b3c415-edb3-4317-95d8-33463a959588",
   "metadata": {},
   "outputs": [],
   "source": [
    "#7Write a program that performs basic arithmetic operations on two user-input numbers."
   ]
  },
  {
   "cell_type": "code",
   "execution_count": 24,
   "id": "791ab44f-a6b4-4b12-9da0-45d215cc554f",
   "metadata": {},
   "outputs": [
    {
     "name": "stdin",
     "output_type": "stream",
     "text": [
      "Enter first number:  24\n",
      "Enter second number:  23\n"
     ]
    },
    {
     "name": "stdout",
     "output_type": "stream",
     "text": [
      "\n",
      "Results:\n",
      "Addition: 47.0\n",
      "Subtraction: 1.0\n",
      "Multiplication: 552.0\n"
     ]
    }
   ],
   "source": [
    "num1 = float(input(\"Enter first number: \"))\n",
    "num2 = float(input(\"Enter second number: \"))\n",
    "print(\"\\nResults:\")\n",
    "print(\"Addition:\", num1 + num2)\n",
    "print(\"Subtraction:\", num1 - num2)\n",
    "print(\"Multiplication:\", num1 * num2)"
   ]
  },
  {
   "cell_type": "code",
   "execution_count": 25,
   "id": "1b22f37d-3e86-42d0-996d-30cd21729ea8",
   "metadata": {},
   "outputs": [
    {
     "ename": "SyntaxError",
     "evalue": "invalid syntax (88246594.py, line 1)",
     "output_type": "error",
     "traceback": [
      "\u001b[1;36m  Cell \u001b[1;32mIn[25], line 1\u001b[1;36m\u001b[0m\n\u001b[1;33m    Enter your age: 20\u001b[0m\n\u001b[1;37m          ^\u001b[0m\n\u001b[1;31mSyntaxError\u001b[0m\u001b[1;31m:\u001b[0m invalid syntax\n"
     ]
    }
   ],
   "source": [
    "#8. Write a program to demonstrate the use of logical operators."
   ]
  },
  {
   "cell_type": "code",
   "execution_count": 26,
   "id": "aa8eb3fe-f0b9-4750-9a0f-c5d73414e7a7",
   "metadata": {},
   "outputs": [
    {
     "name": "stdin",
     "output_type": "stream",
     "text": [
      "Enter your age:  24\n",
      "Do you have an ID? (yes/no):  Yes\n"
     ]
    },
    {
     "name": "stdout",
     "output_type": "stream",
     "text": [
      "\n",
      "Checking conditions...\n",
      "You are allowed to enter.\n",
      "You meet at least one condition.\n"
     ]
    }
   ],
   "source": [
    "# Take input from the user\n",
    "age = int(input(\"Enter your age: \"))\n",
    "has_id = input(\"Do you have an ID? (yes/no): \").lower()\n",
    "\n",
    "# Logical operators in action\n",
    "print(\"\\nChecking conditions...\")\n",
    "\n",
    "# AND operator\n",
    "if age >= 18 and has_id == \"yes\":\n",
    "    print(\"You are allowed to enter.\")\n",
    "else:\n",
    "    print(\"You are NOT allowed to enter.\")\n",
    "\n",
    "# OR operator\n",
    "if age >= 18 or has_id == \"yes\":\n",
    "    print(\"You meet at least one condition.\")\n",
    "\n",
    "# NOT operator\n",
    "if not has_id == \"yes\":\n",
    "    print(\"You don't have an ID.\")\n"
   ]
  },
  {
   "cell_type": "code",
   "execution_count": null,
   "id": "e674e2af-3562-454a-951b-90ab9cf584d7",
   "metadata": {},
   "outputs": [],
   "source": [
    "#9. Write a Python program to convert user input from string to integer, float, and boolean types"
   ]
  },
  {
   "cell_type": "code",
   "execution_count": 27,
   "id": "2ad4f18f-b3cf-41a8-b0c6-eb2cd6b8908a",
   "metadata": {},
   "outputs": [
    {
     "name": "stdin",
     "output_type": "stream",
     "text": [
      "Enter something:  a\n"
     ]
    },
    {
     "name": "stdout",
     "output_type": "stream",
     "text": [
      "Cannot convert to integer.\n",
      "Cannot convert to float.\n",
      "As boolean: True\n"
     ]
    }
   ],
   "source": [
    "# Take input from user as a string\n",
    "user_input = input(\"Enter something: \")\n",
    "\n",
    "# Convert to integer\n",
    "try:\n",
    "    int_value = int(user_input)\n",
    "    print(\"As integer:\", int_value)\n",
    "except ValueError:\n",
    "    print(\"Cannot convert to integer.\")\n",
    "\n",
    "# Convert to float\n",
    "try:\n",
    "    float_value = float(user_input)\n",
    "    print(\"As float:\", float_value)\n",
    "except ValueError:\n",
    "    print(\"Cannot convert to float.\")\n",
    "\n",
    "# Convert to boolean\n",
    "bool_value = bool(user_input)\n",
    "print(\"As boolean:\", bool_value)\n"
   ]
  },
  {
   "cell_type": "code",
   "execution_count": null,
   "id": "4c1e2852-300f-43cf-bc37-e7565c64004b",
   "metadata": {},
   "outputs": [],
   "source": [
    "#10. Write code to demonstrate type casting with list elements."
   ]
  },
  {
   "cell_type": "code",
   "execution_count": 33,
   "id": "10f02da9-9245-4f66-bf62-388c955aa353",
   "metadata": {},
   "outputs": [
    {
     "name": "stdout",
     "output_type": "stream",
     "text": [
      "Original (strings): ['10', '20', '30', '40']\n",
      "Converted (integers): [10, 20, 30, 40]\n"
     ]
    }
   ],
   "source": [
    "# List of strings (user-like input)\n",
    "str_list = [\"10\", \"20\", \"30\", \"40\"]\n",
    "\n",
    "# Type cast each string to integer\n",
    "int_list = [int(item) for item in str_list]\n",
    "\n",
    "# Show results\n",
    "print(\"Original (strings):\", str_list)\n",
    "print(\"Converted (integers):\", int_list)\n",
    "\n"
   ]
  },
  {
   "cell_type": "code",
   "execution_count": null,
   "id": "4be82abd-a40d-43a1-b378-28c91fe07566",
   "metadata": {},
   "outputs": [],
   "source": [
    "#11. Write a program that checks if a number is positive, negative, or zero."
   ]
  },
  {
   "cell_type": "code",
   "execution_count": 34,
   "id": "e41cd553-e53c-4430-be9a-a4c62ee98621",
   "metadata": {},
   "outputs": [
    {
     "name": "stdin",
     "output_type": "stream",
     "text": [
      "Enter a number:  3\n"
     ]
    },
    {
     "name": "stdout",
     "output_type": "stream",
     "text": [
      "The number is positive.\n"
     ]
    }
   ],
   "source": [
    "# Get input from the user\n",
    "num = float(input(\"Enter a number: \"))\n",
    "\n",
    "# Check if the number is positive, negative, or zero\n",
    "if num > 0:\n",
    "    print(\"The number is positive.\")\n",
    "elif num < 0:\n",
    "    print(\"The number is negative.\")\n",
    "else:\n",
    "    print(\"The number is zero.\")\n"
   ]
  },
  {
   "cell_type": "code",
   "execution_count": 38,
   "id": "8161185d-2ba8-42f8-a6bf-df25dc8c1c63",
   "metadata": {},
   "outputs": [
    {
     "ename": "SyntaxError",
     "evalue": "invalid syntax (2601412228.py, line 3)",
     "output_type": "error",
     "traceback": [
      "\u001b[1;36m  Cell \u001b[1;32mIn[38], line 3\u001b[1;36m\u001b[0m\n\u001b[1;33m    For Loop-\u001b[0m\n\u001b[1;37m        ^\u001b[0m\n\u001b[1;31mSyntaxError\u001b[0m\u001b[1;31m:\u001b[0m invalid syntax\n"
     ]
    }
   ],
   "source": [
    "#12. Write a for loop to print numbers from 1 to 10\n",
    "\n",
    "For Loop- \n",
    "\n"
   ]
  },
  {
   "cell_type": "code",
   "execution_count": 39,
   "id": "a1d5228c-b06b-41b9-880d-a5d29904bec0",
   "metadata": {},
   "outputs": [
    {
     "name": "stdout",
     "output_type": "stream",
     "text": [
      "1\n",
      "2\n",
      "3\n",
      "4\n",
      "5\n",
      "6\n",
      "7\n",
      "8\n",
      "9\n",
      "10\n"
     ]
    }
   ],
   "source": [
    "for i in range(1, 11):\n",
    "    print(i)"
   ]
  },
  {
   "cell_type": "code",
   "execution_count": null,
   "id": "c87e57c8-7513-4a58-b2fb-f00d9371e70f",
   "metadata": {},
   "outputs": [],
   "source": [
    "#13. Write a Python program to find the sum of all even numbers between 1 and 50."
   ]
  },
  {
   "cell_type": "code",
   "execution_count": 40,
   "id": "68bc711a-ee29-4e08-8cb9-7ac43753ef06",
   "metadata": {},
   "outputs": [
    {
     "name": "stdout",
     "output_type": "stream",
     "text": [
      "Sum of even numbers: 650\n"
     ]
    }
   ],
   "source": [
    "total = 0  \n",
    "\n",
    "for i in range(1, 51):\n",
    "    if i % 2 == 0:\n",
    "        total += i  \n",
    "\n",
    "print(\"Sum of even numbers:\", total) \n"
   ]
  },
  {
   "cell_type": "code",
   "execution_count": null,
   "id": "13498d09-e337-4ad1-aea4-5274fab39d01",
   "metadata": {},
   "outputs": [],
   "source": [
    "#14. Write a program to reverse a string using a while loop\n",
    "\n",
    "\n"
   ]
  },
  {
   "cell_type": "code",
   "execution_count": 42,
   "id": "af4684f2-e5f1-4884-96c9-428fae9c3861",
   "metadata": {},
   "outputs": [
    {
     "name": "stdin",
     "output_type": "stream",
     "text": [
      "Enter a string:  ab\n"
     ]
    },
    {
     "name": "stdout",
     "output_type": "stream",
     "text": [
      "Reversed string: ba\n"
     ]
    }
   ],
   "source": [
    "\n",
    "text = input(\"Enter a string: \")\n",
    "\n",
    "\n",
    "reversed_text = \"\"\n",
    "index = len(text) - 1\n",
    "\n",
    "\n",
    "while index >= 0:\n",
    "    reversed_text += text[index]\n",
    "    index -= 1\n",
    "\n",
    "\n",
    "print(\"Reversed string:\", reversed_text)\n"
   ]
  },
  {
   "cell_type": "code",
   "execution_count": null,
   "id": "a781c9c1-810a-4e25-9ca4-48f4fdce217c",
   "metadata": {},
   "outputs": [],
   "source": [
    "#15. Write a Python program to calculate the factorial of a number provided by the user using a while loop"
   ]
  },
  {
   "cell_type": "code",
   "execution_count": 44,
   "id": "fd41e671-6678-4072-9a5b-5c756c0cc530",
   "metadata": {},
   "outputs": [
    {
     "name": "stdin",
     "output_type": "stream",
     "text": [
      "Enter a number:  45\n"
     ]
    },
    {
     "name": "stdout",
     "output_type": "stream",
     "text": [
      "Factorial of 45 is: 119622220865480194561963161495657715064383733760000000000\n"
     ]
    }
   ],
   "source": [
    "# Get input from user\n",
    "num = int(input(\"Enter a number: \"))\n",
    "\n",
    "# Initialize variables\n",
    "factorial = 1\n",
    "i = 1\n",
    "\n",
    "# Use while loop to calculate factorial\n",
    "while i <= num:\n",
    "    factorial *= i\n",
    "    i += 1\n",
    "\n",
    "# Print the result\n",
    "print(\"Factorial of\", num, \"is:\", factorial)\n",
    "\n",
    "\n"
   ]
  },
  {
   "cell_type": "code",
   "execution_count": null,
   "id": "dec606f8-a9b8-4588-b40c-7ee7a2307ece",
   "metadata": {},
   "outputs": [],
   "source": []
  },
  {
   "cell_type": "code",
   "execution_count": null,
   "id": "c2e6d469-17e0-4510-9ae5-8d6d7f325beb",
   "metadata": {},
   "outputs": [],
   "source": []
  },
  {
   "cell_type": "code",
   "execution_count": null,
   "id": "91e3c1bf-5389-4c5d-bacd-09278276463f",
   "metadata": {},
   "outputs": [],
   "source": []
  },
  {
   "cell_type": "code",
   "execution_count": null,
   "id": "61288b18-f14c-4593-9e2b-2b8f046963ee",
   "metadata": {},
   "outputs": [],
   "source": []
  },
  {
   "cell_type": "code",
   "execution_count": null,
   "id": "5cbf91de-1bbc-4cdc-a6a4-5a9d1b9c0b35",
   "metadata": {},
   "outputs": [],
   "source": []
  },
  {
   "cell_type": "code",
   "execution_count": null,
   "id": "d611facd-95ee-4845-9744-7ef440d3a40c",
   "metadata": {},
   "outputs": [],
   "source": []
  },
  {
   "cell_type": "code",
   "execution_count": null,
   "id": "46c46a81-3e1c-4f9b-a147-be795cc13b67",
   "metadata": {},
   "outputs": [],
   "source": []
  },
  {
   "cell_type": "code",
   "execution_count": null,
   "id": "b7bb7dd2-d993-4489-86fc-1708bbf13d2a",
   "metadata": {},
   "outputs": [],
   "source": []
  },
  {
   "cell_type": "code",
   "execution_count": null,
   "id": "d4f68021-b050-4afb-8ccb-787d97b4b0c5",
   "metadata": {},
   "outputs": [],
   "source": []
  },
  {
   "cell_type": "code",
   "execution_count": null,
   "id": "053be1ca-a8cf-44ef-bacf-e68cef581428",
   "metadata": {},
   "outputs": [],
   "source": []
  },
  {
   "cell_type": "code",
   "execution_count": null,
   "id": "ac274e97-7024-46ad-9d3c-c1c9954fa288",
   "metadata": {},
   "outputs": [],
   "source": []
  },
  {
   "cell_type": "code",
   "execution_count": null,
   "id": "c216b722-3c0e-4b1f-b91c-ebd1e08216a2",
   "metadata": {},
   "outputs": [],
   "source": []
  },
  {
   "cell_type": "code",
   "execution_count": null,
   "id": "8b124de1-cdeb-4db7-984b-fc2514b54dcc",
   "metadata": {},
   "outputs": [],
   "source": []
  },
  {
   "cell_type": "code",
   "execution_count": null,
   "id": "ec339f64-a5b3-457a-bb07-d32b6e5051f1",
   "metadata": {},
   "outputs": [],
   "source": []
  },
  {
   "cell_type": "code",
   "execution_count": null,
   "id": "f7a2c6f6-fafe-4505-80d1-25080590e782",
   "metadata": {},
   "outputs": [],
   "source": []
  },
  {
   "cell_type": "code",
   "execution_count": null,
   "id": "47d20400-e7e0-4128-a19f-6ff494f0375b",
   "metadata": {},
   "outputs": [],
   "source": []
  },
  {
   "cell_type": "code",
   "execution_count": null,
   "id": "1bc148f6-f3a0-4a5a-a505-09f88b6024f3",
   "metadata": {},
   "outputs": [],
   "source": []
  },
  {
   "cell_type": "code",
   "execution_count": null,
   "id": "d316e450-68cc-47b8-afb9-7e3bbe97545b",
   "metadata": {},
   "outputs": [],
   "source": []
  },
  {
   "cell_type": "code",
   "execution_count": null,
   "id": "b4d13c00-dfd7-49cd-a0b1-1049ceedfdc8",
   "metadata": {},
   "outputs": [],
   "source": []
  },
  {
   "cell_type": "code",
   "execution_count": null,
   "id": "c201af7a-ba85-4bef-b052-f5bdcdb6201a",
   "metadata": {},
   "outputs": [],
   "source": []
  },
  {
   "cell_type": "code",
   "execution_count": null,
   "id": "9e2bc335-c57a-47c0-9417-47e44a0424ef",
   "metadata": {},
   "outputs": [],
   "source": []
  },
  {
   "cell_type": "code",
   "execution_count": null,
   "id": "552cc0b1-69ca-4550-8da8-05783477f3b8",
   "metadata": {},
   "outputs": [],
   "source": []
  },
  {
   "cell_type": "code",
   "execution_count": null,
   "id": "2b0f7388-4cff-45dc-8913-d71148fc4ab8",
   "metadata": {},
   "outputs": [],
   "source": []
  },
  {
   "cell_type": "code",
   "execution_count": null,
   "id": "81e9764b-6e50-4c06-bff8-e6f08754221d",
   "metadata": {},
   "outputs": [],
   "source": []
  },
  {
   "cell_type": "code",
   "execution_count": null,
   "id": "afb24952-3f9e-4c9d-9f74-a5db6949f8ce",
   "metadata": {},
   "outputs": [],
   "source": []
  },
  {
   "cell_type": "code",
   "execution_count": null,
   "id": "ef84e335-79f5-4830-b9f7-713dda85bcce",
   "metadata": {},
   "outputs": [],
   "source": []
  },
  {
   "cell_type": "code",
   "execution_count": null,
   "id": "35dc416a-639a-45c9-a8f9-72ab504c2d91",
   "metadata": {},
   "outputs": [],
   "source": []
  },
  {
   "cell_type": "code",
   "execution_count": null,
   "id": "42fef9ce-1546-4d47-b78e-00a63fabd091",
   "metadata": {},
   "outputs": [],
   "source": []
  },
  {
   "cell_type": "code",
   "execution_count": null,
   "id": "69009cb7-3554-46aa-9a9f-e317e3f5b106",
   "metadata": {},
   "outputs": [],
   "source": []
  },
  {
   "cell_type": "code",
   "execution_count": null,
   "id": "c943544f-052d-4c4e-87ac-5b9abf18ee5e",
   "metadata": {},
   "outputs": [],
   "source": []
  },
  {
   "cell_type": "code",
   "execution_count": null,
   "id": "fd449af8-89ae-4123-bd96-c6ea9e8d7572",
   "metadata": {},
   "outputs": [],
   "source": []
  },
  {
   "cell_type": "code",
   "execution_count": null,
   "id": "0601eff8-19c7-4d0a-b786-4b2fbe9482b3",
   "metadata": {},
   "outputs": [],
   "source": []
  },
  {
   "cell_type": "code",
   "execution_count": null,
   "id": "420a06dd-64dd-47fe-9ec9-0aacfef2ffa3",
   "metadata": {},
   "outputs": [],
   "source": []
  },
  {
   "cell_type": "code",
   "execution_count": null,
   "id": "965b7e40-f074-4c52-922e-3f4f7521808c",
   "metadata": {},
   "outputs": [],
   "source": []
  },
  {
   "cell_type": "code",
   "execution_count": null,
   "id": "7b6d2b61-1e84-40b8-8434-523cf686b2e6",
   "metadata": {},
   "outputs": [],
   "source": []
  },
  {
   "cell_type": "code",
   "execution_count": null,
   "id": "d84a0ef6-b27b-4ab3-b3e9-bfba84caed78",
   "metadata": {},
   "outputs": [],
   "source": []
  },
  {
   "cell_type": "code",
   "execution_count": null,
   "id": "e62737bd-239e-46ae-a5ed-a5ee81f85975",
   "metadata": {},
   "outputs": [],
   "source": []
  },
  {
   "cell_type": "code",
   "execution_count": null,
   "id": "a207ab75-a35c-40be-b3e1-49f631647f4a",
   "metadata": {},
   "outputs": [],
   "source": []
  },
  {
   "cell_type": "code",
   "execution_count": null,
   "id": "45721af9-f6d4-4ff2-8bf8-8f7ec7d4c730",
   "metadata": {},
   "outputs": [],
   "source": []
  },
  {
   "cell_type": "code",
   "execution_count": null,
   "id": "a2f3c9e5-601b-444c-9d58-74a82b14ee71",
   "metadata": {},
   "outputs": [],
   "source": []
  },
  {
   "cell_type": "code",
   "execution_count": null,
   "id": "8f1113b4-9822-41d9-bd43-c60def058b3d",
   "metadata": {},
   "outputs": [],
   "source": []
  },
  {
   "cell_type": "code",
   "execution_count": null,
   "id": "d79f7d5d-ac4c-4167-ad9a-7689977b08a0",
   "metadata": {},
   "outputs": [],
   "source": []
  },
  {
   "cell_type": "code",
   "execution_count": null,
   "id": "08a8022c-de0b-4708-ad57-4c4bef01ae68",
   "metadata": {},
   "outputs": [],
   "source": []
  },
  {
   "cell_type": "code",
   "execution_count": null,
   "id": "1693766e-c9b0-454f-8957-8b4cb409cc40",
   "metadata": {},
   "outputs": [],
   "source": []
  },
  {
   "cell_type": "code",
   "execution_count": null,
   "id": "8a0e8404-462f-422b-91ec-2eb0baa94edf",
   "metadata": {},
   "outputs": [],
   "source": []
  },
  {
   "cell_type": "code",
   "execution_count": null,
   "id": "65ac0ebe-4412-44f6-ae46-a0e1a79582e6",
   "metadata": {},
   "outputs": [],
   "source": []
  }
 ],
 "metadata": {
  "kernelspec": {
   "display_name": "Python [conda env:base] *",
   "language": "python",
   "name": "conda-base-py"
  },
  "language_info": {
   "codemirror_mode": {
    "name": "ipython",
    "version": 3
   },
   "file_extension": ".py",
   "mimetype": "text/x-python",
   "name": "python",
   "nbconvert_exporter": "python",
   "pygments_lexer": "ipython3",
   "version": "3.13.5"
  }
 },
 "nbformat": 4,
 "nbformat_minor": 5
}
