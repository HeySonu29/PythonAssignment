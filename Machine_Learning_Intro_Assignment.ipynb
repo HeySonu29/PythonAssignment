{
  "nbformat": 4,
  "nbformat_minor": 0,
  "metadata": {
    "colab": {
      "provenance": []
    },
    "kernelspec": {
      "name": "python3",
      "display_name": "Python 3"
    },
    "language_info": {
      "name": "python"
    }
  },
  "cells": [
    {
      "cell_type": "markdown",
      "source": [
        "**Question 1: Explain the differences between AI, ML, Deep Learning (DL), and Data Science (DS).**\n",
        "\n",
        "Answer: AI (Artificial Intelligence) is the broad field of making machines simulate human intelligence and decision-making. ML (Machine Learning) is a subset of AI that focuses on algorithms that learn patterns from data without being explicitly programmed. DL (Deep Learning) is a subset of ML that uses multi-layered neural networks to automatically extract features and handle complex problems like image recognition. DS (Data Science) is a multidisciplinary field that combines statistics, programming, and domain knowledge to extract insights and build predictive models, often using ML."
      ],
      "metadata": {
        "id": "5q5PzeCFIlFq"
      }
    },
    {
      "cell_type": "markdown",
      "source": [
        "**Question 2: What are the types of machine learning? Describe each with one real-world example.**\n",
        "\n",
        "**Answer:**\n",
        "\n",
        "**Supervised Learning –** The model learns from labeled data. Example: Predicting house prices using historical data.\n",
        "\n",
        "**Unsupervised Learning –** The model finds hidden patterns in unlabeled data. Example: Customer segmentation using clustering.\n",
        "\n",
        "**Reinforcement Learning –** The model learns by interacting with an environment and receiving rewards/penalties. Example: Training a robot to walk."
      ],
      "metadata": {
        "id": "H4YFj-unItxl"
      }
    },
    {
      "cell_type": "markdown",
      "source": [
        "**Question 3: Define overfitting, underfitting, and the bias-variance tradeoff in machine learning.**\n",
        "\n",
        "**Answer**:\n",
        "\n",
        "**Overfitting**: When the model learns training data too well, including noise, leading to poor generalization on new data.\n",
        "\n",
        "**Underfitting**: When the model is too simple and fails to capture patterns, resulting in poor performance even on training data.\n",
        "\n",
        "**Bias-Variance Tradeoff**: Finding the balance between bias (error from overly simple models) and variance (error from overly complex models) to achieve good generalization."
      ],
      "metadata": {
        "id": "8MqvdLigJC9p"
      }
    },
    {
      "cell_type": "markdown",
      "source": [
        "**Question 4: What are outliers in a dataset, and list three common techniques for handling them.**\n",
        "\n",
        "**Answer:** Outliers are extreme data points that differ significantly from the majority of the dataset. They can skew analysis and model performance. Techniques to handle them:\n",
        "\n",
        "Removal: Delete outliers if they are due to data entry errors.\n",
        "\n",
        "Transformation: Use log or square root transformation to reduce the effect of outliers.\n",
        "\n",
        "Capping: Replace extreme values with the nearest acceptable value (winsorization)."
      ],
      "metadata": {
        "id": "qGB81dm8JQkK"
      }
    },
    {
      "cell_type": "code",
      "source": [],
      "metadata": {
        "id": "vkKOIPkRJdvA"
      },
      "execution_count": null,
      "outputs": []
    },
    {
      "cell_type": "markdown",
      "source": [
        "**Question 5: Explain the process of handling missing values and mention one imputation technique for numerical and one for categorical data.**\n",
        "\n",
        "Answer: Handling missing values involves detecting missing data, analyzing the reason, and deciding to drop or impute them.\n",
        "\n",
        "Numerical Data Imputation: Replace missing values with mean or median.\n",
        "\n",
        "Categorical Data Imputation: Replace missing values with mode (most frequent category)."
      ],
      "metadata": {
        "id": "lpo-aPncJhjX"
      }
    },
    {
      "cell_type": "markdown",
      "source": [],
      "metadata": {
        "id": "Siu2Ce5dJprH"
      }
    },
    {
      "cell_type": "code",
      "source": [
        "#Question 6: Write a Python program that:\n",
        "\n",
        "#Creates a synthetic imbalanced dataset with make_classification() from sklearn.datasets.\n",
        "\n",
        "#Prints the class distribution.\n",
        "\n",
        "from sklearn.datasets import make_classification\n",
        "import numpy as np\n",
        "\n",
        "\n",
        "X, y = make_classification(n_samples=1000, n_features=5, n_classes=2, weights=[0.9, 0.1], random_state=42)\n",
        "unique, counts = np.unique(y, return_counts=True)\n",
        "print(\"Class distribution:\", dict(zip(unique, counts)))"
      ],
      "metadata": {
        "colab": {
          "base_uri": "https://localhost:8080/"
        },
        "id": "TrDq7KKFKoyQ",
        "outputId": "6646c031-14f0-4171-c24b-8d3c416e8ac7"
      },
      "execution_count": 2,
      "outputs": [
        {
          "output_type": "stream",
          "name": "stdout",
          "text": [
            "Class distribution: {np.int64(0): np.int64(895), np.int64(1): np.int64(105)}\n"
          ]
        }
      ]
    },
    {
      "cell_type": "code",
      "source": [
        "#Question 7: Implement one-hot encoding using pandas for the following list of colors: ['Red', 'Green', 'Blue', 'Green', 'Red']. Print the resulting dataframe.\n",
        "\n",
        "import pandas as pd\n",
        "\n",
        "\n",
        "colors = ['Red', 'Green', 'Blue', 'Green', 'Red']\n",
        "df = pd.DataFrame({'Color': colors})\n",
        "one_hot = pd.get_dummies(df['Color'])\n",
        "print(one_hot)"
      ],
      "metadata": {
        "colab": {
          "base_uri": "https://localhost:8080/"
        },
        "id": "way2ADZuKyxE",
        "outputId": "d664bb58-9c95-49c0-be80-c3e62eb575c4"
      },
      "execution_count": 4,
      "outputs": [
        {
          "output_type": "stream",
          "name": "stdout",
          "text": [
            "    Blue  Green    Red\n",
            "0  False  False   True\n",
            "1  False   True  False\n",
            "2   True  False  False\n",
            "3  False   True  False\n",
            "4  False  False   True\n"
          ]
        }
      ]
    },
    {
      "cell_type": "code",
      "source": [
        "###Question 8: Write a Python script to:\n",
        "\n",
        "#Generate 1000 samples from a normal distribution.\n",
        "\n",
        "#Introduce 50 random missing values.\n",
        "\n",
        "#Fill missing values with the column mean.\n",
        "\n",
        "#Plot a histogram before and after imputation.\n",
        "\n",
        "import numpy as np\n",
        "import pandas as pd\n",
        "import matplotlib.pyplot as plt\n",
        "\n",
        "\n",
        "np.random.seed(42)\n",
        "data = np.random.normal(50, 10, 1000)\n",
        "data[np.random.choice(1000, 50, replace=False)] = np.nan\n",
        "\n",
        "\n",
        "plt.hist(data, bins=20, alpha=0.5, label='Before Imputation')\n",
        "data_filled = pd.Series(data).fillna(np.nanmean(data))\n",
        "plt.hist(data_filled, bins=20, alpha=0.5, label='After Imputation')\n",
        "plt.legend()\n",
        "plt.show()"
      ],
      "metadata": {
        "colab": {
          "base_uri": "https://localhost:8080/",
          "height": 430
        },
        "id": "NyBIkWQ2LJ2i",
        "outputId": "513f9e34-efd4-4fd2-9f99-4807c015734d"
      },
      "execution_count": 6,
      "outputs": [
        {
          "output_type": "display_data",
          "data": {
            "text/plain": [
              "<Figure size 640x480 with 1 Axes>"
            ],
            "image/png": "[encoded data removed]"
          },
          "metadata": {}
        }
      ]
    },
    {
      "cell_type": "code",
      "source": [
        "#Question 9: Implement Min-Max scaling on the following list of numbers [2, 5, 10, 15, 20] using sklearn.preprocessing.MinMaxScaler. Print the scaled array.\n",
        "\n",
        "from sklearn.preprocessing import MinMaxScaler\n",
        "import numpy as np\n",
        "\n",
        "\n",
        "data = np.array([[2], [5], [10], [15], [20]])\n",
        "scaler = MinMaxScaler()\n",
        "scaled_data = scaler.fit_transform(data)\n",
        "print(scaled_data)"
      ],
      "metadata": {
        "colab": {
          "base_uri": "https://localhost:8080/"
        },
        "id": "erHRhTGuMGc0",
        "outputId": "f0695aea-37fb-40ea-8551-17b50224deae"
      },
      "execution_count": 7,
      "outputs": [
        {
          "output_type": "stream",
          "name": "stdout",
          "text": [
            "[[0.        ]\n",
            " [0.16666667]\n",
            " [0.44444444]\n",
            " [0.72222222]\n",
            " [1.        ]]\n"
          ]
        }
      ]
    },
    {
      "cell_type": "markdown",
      "source": [
        "**Question 10: You are working as a data scientist for a retail company. You receive a customer transaction dataset that contains:**\n",
        "\n",
        "**Missing ages**\n",
        "\n",
        "**Outliers in transaction amount**\n",
        "\n",
        "**A highly imbalanced target (fraud vs. non-fraud)**\n",
        "\n",
        "**Categorical variables like payment method**\n",
        "\n",
        "**Explain the step-by-step data preparation plan you’d follow before training a machine learning model.**\n",
        "\n",
        "**Answer**\n",
        "\n",
        "Handle Missing Ages: Analyze the distribution and impute missing ages with median (robust to skewed data). If age correlates with other features, consider regression-based imputation.\n",
        "\n",
        "Handle Outliers: Detect using IQR or z-score. Cap extreme values to reduce their impact but keep them if they represent real behavior (important in fraud detection).\n",
        "\n",
        "Handle Imbalance: Apply techniques like SMOTE (generates synthetic minority class samples) or use class weights to help the model learn minority class patterns.\n",
        "\n",
        "Encode Categorical Variables: Use one-hot encoding for nominal features and target encoding or frequency encoding for high-cardinality features to avoid dimensionality explosion.\n",
        "\n",
        "Feature Scaling: Standardize numerical variables so that all features contribute equally to model training.\n",
        "\n",
        "Feature Engineering: Create new meaningful features such as transaction frequency or average spend per user to improve model predictive power.\n",
        "\n",
        "Train-Test Split: Use stratified split to maintain class ratio in train/test sets and get a reliable evaluation of model performance."
      ],
      "metadata": {
        "id": "-swTYvrjMPnv"
      }
    }
  ]
}