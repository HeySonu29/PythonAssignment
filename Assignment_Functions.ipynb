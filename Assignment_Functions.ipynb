{
  "nbformat": 4,
  "nbformat_minor": 0,
  "metadata": {
    "colab": {
      "provenance": []
    },
    "kernelspec": {
      "name": "python3",
      "display_name": "Python 3"
    },
    "language_info": {
      "name": "python"
    }
  },
  "cells": [
    {
      "cell_type": "code",
      "execution_count": null,
      "metadata": {
        "id": "0FmEk_FtlWt-"
      },
      "outputs": [],
      "source": []
    },
    {
      "cell_type": "markdown",
      "source": [
        "**1. What is the difference between a function and a method in Python?**\n",
        "\n",
        "A function is a block of reusable code that performs a specific task and is defined using the def keyword while A method is like a function but associated with an object and is called on that object (i.e., it is part of a class).\n",
        "Examples below.\n",
        "\n"
      ],
      "metadata": {
        "id": "clSri3qGmJXY"
      }
    },
    {
      "cell_type": "code",
      "source": [
        "# Function\n",
        "def greet(name):\n",
        "    return \"Hello \" + name\n",
        "\n",
        "# Method\n",
        "my_list = [1, 2, 3]\n",
        "my_list.append(4)  # 'append' is a method of list"
      ],
      "metadata": {
        "id": "Gds6Uf1umusk"
      },
      "execution_count": null,
      "outputs": []
    },
    {
      "cell_type": "markdown",
      "source": [
        "**2. Explain the concept of function arguments and parameters in Python.**\n",
        "\n",
        "As explained earlier, function is block of code that can be used again and performs a specific task and is defined using the def keyword whereas Parameters are variables listed in a function’s definition.\n",
        "\n",
        "Examples below.\n",
        "\n",
        "\n",
        "\n",
        "\n",
        "\n"
      ],
      "metadata": {
        "id": "w8UjK6IHm5Tg"
      }
    },
    {
      "cell_type": "code",
      "source": [
        "def add(x, y):   # x and y are parameters\n",
        "    return x + y\n",
        "\n",
        "result = add(3, 4)  # 3 and 4 are arguments\n"
      ],
      "metadata": {
        "id": "ysAceFdonZF0"
      },
      "execution_count": null,
      "outputs": []
    },
    {
      "cell_type": "markdown",
      "source": [
        "**3. What are the different ways to define and call a function in Python?**\n",
        "\n",
        "Define using def or lambda.\n",
        "\n",
        "Call with positional, keyword, default, or variable-length arguments.\n",
        "\n",
        "examples below-"
      ],
      "metadata": {
        "id": "ZEjdfY05nuy3"
      }
    },
    {
      "cell_type": "code",
      "source": [
        "def greet(name=\"Guest\"):\n",
        "    return \"Hello \" + name\n",
        "\n",
        "print(greet())  # Default argument\n",
        "print(greet(\"Alice\"))  # Positional argument\n",
        "\n",
        "# Lambda\n",
        "square = lambda x: x * x\n",
        "print(square(5))\n"
      ],
      "metadata": {
        "colab": {
          "base_uri": "https://localhost:8080/"
        },
        "id": "nUzWOQXfn6yV",
        "outputId": "fb093c82-1614-44ff-af3e-532dec32a526"
      },
      "execution_count": null,
      "outputs": [
        {
          "output_type": "stream",
          "name": "stdout",
          "text": [
            "Hello Guest\n",
            "Hello Alice\n",
            "25\n"
          ]
        }
      ]
    },
    {
      "cell_type": "markdown",
      "source": [
        "**4. What is the purpose of the return statement in a Python function?**\n",
        "\n",
        "The return statement sends a result back to the caller and ends function execution.\n",
        "\n",
        "example below-\n",
        "\n",
        "\n",
        "\n"
      ],
      "metadata": {
        "id": "2-9tC5jaoMuo"
      }
    },
    {
      "cell_type": "code",
      "source": [
        "def multiply(a, b):\n",
        "    return a * b\n",
        "\n",
        "result = multiply(2, 3)\n",
        "print(result)  # Output: 6"
      ],
      "metadata": {
        "colab": {
          "base_uri": "https://localhost:8080/"
        },
        "id": "gJb8WbdNolfb",
        "outputId": "3b7e72d8-9648-4d68-983a-27a7c4c32add"
      },
      "execution_count": null,
      "outputs": [
        {
          "output_type": "stream",
          "name": "stdout",
          "text": [
            "6\n"
          ]
        }
      ]
    },
    {
      "cell_type": "markdown",
      "source": [
        "**5. What are iterators in Python and how do they differ from iterables?**\n",
        "\n",
        "***iterator** is an object, which is used to iterate over an iterable object using the __next__() method. Iterators have the __next__() method, which returns the next item of the object.\n",
        "\n",
        " **iterables** is an object, that one can iterate over. It generates an Iterator when passed to iter()Iterable is an object, that one can iterate over. It generates an Iterator when passed to iter()\n",
        "\n",
        "** Note: Every iterator is also an iterable, but not every iterable is an iterator in Python.**\n",
        "\n",
        "Examples-\n",
        "my_list = [1, 2, 3]     # Iterable\n",
        "it = iter(my_list)      # Iterator\n",
        "\n",
        "print(next(it))  # 1\n",
        "print(next(it))  # 2\n",
        "\n",
        "\n",
        "\n",
        "\n"
      ],
      "metadata": {
        "id": "ohSyuneho6ho"
      }
    },
    {
      "cell_type": "code",
      "source": [],
      "metadata": {
        "id": "cS-hQu8jqIa7"
      },
      "execution_count": null,
      "outputs": []
    },
    {
      "cell_type": "markdown",
      "source": [
        "**6. Explain the concept of generators in Python and how they are defined.**\n",
        "\n",
        "Generators are functions that return an iterator using the yield keyword.They produce values only one at a time and when requested, they are special type of iterator that allows you to iterate over a sequence of values. Unlike regular functions that return a single value and then terminate, generators can yield multiple values, one at a time, pausing their state between each yield.\n",
        "\n",
        "example below-\n",
        "\n"
      ],
      "metadata": {
        "id": "TK5scWExqOmY"
      }
    },
    {
      "cell_type": "code",
      "source": [
        "\n",
        "def countdown(n):\n",
        "    while n > 0:\n",
        "        yield n\n",
        "        n -= 1\n",
        "\n",
        "for num in countdown(3):\n",
        "    print(num)  # Output: 3, 2, 1\n",
        "\n"
      ],
      "metadata": {
        "id": "eglC93jirAJv"
      },
      "execution_count": null,
      "outputs": []
    },
    {
      "cell_type": "markdown",
      "source": [
        "#7. What are the advantages of using generators over regular functions?\n",
        "\n",
        "Regular Functions:\n",
        "\n",
        "Use return to send the entire result at once.\n",
        "Not memory efficient for large datasets.\n",
        "\n",
        "Generators:\n",
        "\n",
        "Use yield to produce one result at a time.\n",
        "Results are computed only when needed (lazy evaluation).\n",
        "Highly memory-efficient, especially with large data streams or infinite sequences.\n",
        "\n",
        "Note- Generators are better when you want a high performance with low memory and you do not need all the results at once.\n",
        "\n",
        "\n",
        "\n",
        "\n",
        "\n",
        "\n"
      ],
      "metadata": {
        "id": "9N_g9inQxHz5"
      }
    },
    {
      "cell_type": "code",
      "source": [
        "# Generator saves memory\n",
        "def gen_numbers():\n",
        "    for i in range(1000000):\n",
        "        yield i\n"
      ],
      "metadata": {
        "id": "wokvyJrwyF44"
      },
      "execution_count": null,
      "outputs": []
    },
    {
      "cell_type": "code",
      "source": [],
      "metadata": {
        "id": "J6NL10-c2Ab_"
      },
      "execution_count": null,
      "outputs": []
    },
    {
      "cell_type": "markdown",
      "source": [
        "**8. What is a lambda function in Python and when is it typically used?**\n",
        "\n",
        "A lambda is a small anonymous function with a single expression.\n",
        "Used when a short function is needed for a short period (e.g., inside map(), filter()).\n",
        "\n"
      ],
      "metadata": {
        "id": "Mp4u-Vtw2EaM"
      }
    },
    {
      "cell_type": "code",
      "source": [
        "square = lambda x: x ** 2\n",
        "print(square(4))\n"
      ],
      "metadata": {
        "colab": {
          "base_uri": "https://localhost:8080/"
        },
        "id": "WWuOxraa2SPs",
        "outputId": "61be2c18-cb59-4d45-fb94-54f3d0d83bf5"
      },
      "execution_count": null,
      "outputs": [
        {
          "output_type": "stream",
          "name": "stdout",
          "text": [
            "16\n"
          ]
        }
      ]
    },
    {
      "cell_type": "code",
      "source": [],
      "metadata": {
        "id": "YKSviPDs2hjC"
      },
      "execution_count": null,
      "outputs": []
    },
    {
      "cell_type": "markdown",
      "source": [
        "**9. Explain the purpose and usage of the map() function in Python.**\n",
        "The map() function applies a function to each item in a list (or any iterable).\n",
        "Imagine you have a list of numbers, and you want to double every number.Instead of writing a loop, you can use map() to do it in one line.\n",
        "\n",
        "\n",
        "\n",
        "\n"
      ],
      "metadata": {
        "id": "sqkJWXDP2iAz"
      }
    },
    {
      "cell_type": "code",
      "source": [
        "def double(x):\n",
        "    return x * 2\n",
        "\n",
        "numbers = [1, 2, 3, 4]\n",
        "result = map(double, numbers)\n",
        "\n",
        "print(list(result))\n",
        "#map() is like a shortcut for applying a function to every item in a list.\n",
        "\n"
      ],
      "metadata": {
        "colab": {
          "base_uri": "https://localhost:8080/"
        },
        "id": "H3f8NiBe2lMq",
        "outputId": "2805f515-6bfc-4b9e-abb7-00edca4d313e"
      },
      "execution_count": null,
      "outputs": [
        {
          "output_type": "stream",
          "name": "stdout",
          "text": [
            "[2, 4, 6, 8]\n"
          ]
        }
      ]
    },
    {
      "cell_type": "markdown",
      "source": [
        "**10. What is the difference between map(), reduce(), and filter() functions in Python?**\n",
        "\n",
        "**Map Function in Python**\n",
        "The map () function returns a map object(which is an iterator) of the results after applying the given function to each item of a given iterable (list, tuple, etc.)."
      ],
      "metadata": {
        "id": "gnL-N8rL4WWs"
      }
    },
    {
      "cell_type": "code",
      "source": [
        "# Function to return double of n\n",
        "def double(n):\n",
        "    return n * 2\n",
        "\n",
        "# Using map to double all numbers\n",
        "numbers = [5, 6, 7, 8]\n",
        "result = map(double, numbers)\n",
        "print(list(result))"
      ],
      "metadata": {
        "id": "z25ZDkKm5A9x"
      },
      "execution_count": null,
      "outputs": []
    },
    {
      "cell_type": "code",
      "source": [
        "#Reduce Function in Python\n",
        "#The reduce function is used to apply a particular function passed in its argument to all of the list elements mentioned in the sequence passed along.\n",
        "#This function is defined in “functools” module."
      ],
      "metadata": {
        "id": "uYfDz-fu4Azx"
      },
      "execution_count": null,
      "outputs": []
    },
    {
      "cell_type": "code",
      "source": [
        "import functools\n",
        "\n",
        "# Define a list of numbers\n",
        "numbers = [1, 2, 3, 4]\n",
        "\n",
        "# Use reduce to compute the product of list elements\n",
        "product = functools.reduce(lambda x, y: x * y, numbers)\n",
        "print(\"Product of list elements:\", product)"
      ],
      "metadata": {
        "colab": {
          "base_uri": "https://localhost:8080/"
        },
        "id": "kpN6A3-I5NmM",
        "outputId": "6d959624-464b-40ef-ed77-07bc11955ed3"
      },
      "execution_count": null,
      "outputs": [
        {
          "output_type": "stream",
          "name": "stdout",
          "text": [
            "Product of list elements: 24\n"
          ]
        }
      ]
    },
    {
      "cell_type": "code",
      "source": [
        "#Filter Function in Python\n",
        "#The filter() method filters the given sequence with the help of a function that tests each element in the sequence to be true or not.\n",
        "\n",
        "# Define a function to check if a number is even\n",
        "def is_even(n):\n",
        "    return n % 2 == 0\n",
        "\n",
        "# Define a list of numbers\n",
        "numbers = [1, 2, 3, 4, 5]\n",
        "\n",
        "# Use filter to filter out even numbers\n",
        "even_numbers = filter(is_even, numbers)\n",
        "print(\"Even numbers:\", list(even_numbers))"
      ],
      "metadata": {
        "colab": {
          "base_uri": "https://localhost:8080/"
        },
        "id": "qWdhuG695ig5",
        "outputId": "b7be9dac-1bc0-49bb-90cc-7bb3b3219ab7"
      },
      "execution_count": null,
      "outputs": [
        {
          "output_type": "stream",
          "name": "stdout",
          "text": [
            "Even numbers: [2, 4]\n"
          ]
        }
      ]
    },
    {
      "cell_type": "code",
      "source": [
        "#11 question pending.\n",
        "\n"
      ],
      "metadata": {
        "colab": {
          "base_uri": "https://localhost:8080/",
          "height": 106
        },
        "id": "9k3cC6i_6K0R",
        "outputId": "e0f70cde-e920-45d4-baaf-6fd67d2b868a"
      },
      "execution_count": null,
      "outputs": [
        {
          "output_type": "error",
          "ename": "SyntaxError",
          "evalue": "invalid syntax (ipython-input-25-174848798.py, line 1)",
          "traceback": [
            "\u001b[0;36m  File \u001b[0;32m\"/tmp/ipython-input-25-174848798.py\"\u001b[0;36m, line \u001b[0;32m1\u001b[0m\n\u001b[0;31m    11 question pending.\u001b[0m\n\u001b[0m       ^\u001b[0m\n\u001b[0;31mSyntaxError\u001b[0m\u001b[0;31m:\u001b[0m invalid syntax\n"
          ]
        }
      ]
    },
    {
      "cell_type": "code",
      "source": [
        "#1. Sum of Even Numbers in a List\n",
        "\n",
        "def sum_even_numbers(numbers):\n",
        "    return sum(num for num in numbers if num % 2 == 0)\n",
        "\n",
        "# Example\n",
        "print(sum_even_numbers([1, 2, 3, 4, 5, 6]))  # Output: 12\n"
      ],
      "metadata": {
        "colab": {
          "base_uri": "https://localhost:8080/"
        },
        "id": "SY9QBNFs6ORv",
        "outputId": "2b0aa863-0e8b-470d-f0e8-84c2d836ec54"
      },
      "execution_count": null,
      "outputs": [
        {
          "output_type": "stream",
          "name": "stdout",
          "text": [
            "12\n"
          ]
        }
      ]
    },
    {
      "cell_type": "code",
      "source": [
        "#2. Reverse a String\n",
        "\n",
        "def reverse_string(s):\n",
        "    return s[::-1]\n",
        "\n",
        "# Example\n",
        "print(reverse_string(\"hello\"))  # Output: \"olleh\"\n"
      ],
      "metadata": {
        "colab": {
          "base_uri": "https://localhost:8080/"
        },
        "id": "wFZi8rdu6hT3",
        "outputId": "f895b872-1242-4592-b498-1aa4c99d0341"
      },
      "execution_count": null,
      "outputs": [
        {
          "output_type": "stream",
          "name": "stdout",
          "text": [
            "olleh\n"
          ]
        }
      ]
    },
    {
      "cell_type": "code",
      "source": [
        "#3. Squares of List Elements\n",
        "def square_list(numbers):\n",
        "    return [x**2 for x in numbers]\n",
        "\n",
        "# Example\n",
        "print(square_list([1, 2, 3, 4]))\n"
      ],
      "metadata": {
        "colab": {
          "base_uri": "https://localhost:8080/"
        },
        "id": "Zlzk1Ofv6r63",
        "outputId": "26896161-9e9b-45ad-f678-bf7d965f56ae"
      },
      "execution_count": null,
      "outputs": [
        {
          "output_type": "stream",
          "name": "stdout",
          "text": [
            "[1, 4, 9, 16]\n"
          ]
        }
      ]
    },
    {
      "cell_type": "code",
      "source": [
        "#4. Check Prime Numbers from 1 to 200\n",
        "\n",
        "def is_prime(n):\n",
        "    if n < 2:\n",
        "        return False\n",
        "    for i in range(2, int(n**0.5)+1):\n",
        "        if n % i == 0:\n",
        "            return False\n",
        "    return True\n",
        "\n",
        "# Check and print prime numbers from 1 to 200\n",
        "primes = [n for n in range(1, 201) if is_prime(n)]\n",
        "print(primes)\n"
      ],
      "metadata": {
        "colab": {
          "base_uri": "https://localhost:8080/"
        },
        "id": "83nZvRMp6whD",
        "outputId": "86d630ea-ecb0-45d5-a161-3a3edec07c87"
      },
      "execution_count": null,
      "outputs": [
        {
          "output_type": "stream",
          "name": "stdout",
          "text": [
            "[2, 3, 5, 7, 11, 13, 17, 19, 23, 29, 31, 37, 41, 43, 47, 53, 59, 61, 67, 71, 73, 79, 83, 89, 97, 101, 103, 107, 109, 113, 127, 131, 137, 139, 149, 151, 157, 163, 167, 173, 179, 181, 191, 193, 197, 199]\n"
          ]
        }
      ]
    },
    {
      "cell_type": "code",
      "source": [
        "#5. Fibonacci Iterator Class\n",
        "class Fibonacci:\n",
        "    def __init__(self, max_terms):\n",
        "        self.max_terms = max_terms\n",
        "        self.a, self.b = 0, 1\n",
        "        self.count = 0\n",
        "\n",
        "    def __iter__(self):\n",
        "        return self\n",
        "\n",
        "    def __next__(self):\n",
        "        if self.count >= self.max_terms:\n",
        "            raise StopIteration\n",
        "        value = self.a\n",
        "        self.a, self.b = self.b, self.a + self.b\n",
        "        self.count += 1\n",
        "        return value\n",
        "\n",
        "# Example\n",
        "for num in Fibonacci(10):\n",
        "    print(num, end=\" \")\n",
        "\n"
      ],
      "metadata": {
        "colab": {
          "base_uri": "https://localhost:8080/"
        },
        "id": "9zTB6aWI6674",
        "outputId": "1f519368-a15d-47fa-8683-68f7581b82bb"
      },
      "execution_count": null,
      "outputs": [
        {
          "output_type": "stream",
          "name": "stdout",
          "text": [
            "0 1 1 2 3 5 8 13 21 34 "
          ]
        }
      ]
    },
    {
      "cell_type": "code",
      "source": [
        "#6. Generator for Powers of 2\n",
        "def powers_of_two(n):\n",
        "    for i in range(n + 1):\n",
        "        yield 2 ** i\n",
        "\n",
        "# Example\n",
        "for power in powers_of_two(5):\n",
        "    print(power)  # Output: 1 2 4 8 16 32\n",
        "\n"
      ],
      "metadata": {
        "colab": {
          "base_uri": "https://localhost:8080/"
        },
        "id": "6Zp_D6zU7A_X",
        "outputId": "d469c9fa-b70e-4400-f4cb-95fbfbd96a00"
      },
      "execution_count": null,
      "outputs": [
        {
          "output_type": "stream",
          "name": "stdout",
          "text": [
            "1\n",
            "2\n",
            "4\n",
            "8\n",
            "16\n",
            "32\n"
          ]
        }
      ]
    },
    {
      "cell_type": "code",
      "source": [
        "#7. Generator to Read File Line by Line\n",
        "\n",
        "def file_reader(filepath):\n",
        "    with open(filepath, 'r') as file:\n",
        "        for line in file:\n",
        "            yield line.strip()\n",
        "\n",
        "# Example usage (Make sure the file exists)\n",
        "# for line in file_reader(\"sample.txt\"):\n",
        "#     print(line)\n",
        "\n"
      ],
      "metadata": {
        "id": "w-C96KIq7SWK"
      },
      "execution_count": null,
      "outputs": []
    },
    {
      "cell_type": "code",
      "source": [
        "#8. Sort List of Tuples by Second Element\n",
        "data = [(1, 3), (4, 1), (2, 2)]\n",
        "sorted_data = sorted(data, key=lambda x: x[1])\n",
        "print(sorted_data)  # Output: [(4, 1), (2, 2), (1, 3)]\n",
        "\n",
        "\n"
      ],
      "metadata": {
        "colab": {
          "base_uri": "https://localhost:8080/"
        },
        "id": "lFIfpwun7bVs",
        "outputId": "feb6450d-ac86-47e4-b15c-c7da93c131b1"
      },
      "execution_count": null,
      "outputs": [
        {
          "output_type": "stream",
          "name": "stdout",
          "text": [
            "[(4, 1), (2, 2), (1, 3)]\n"
          ]
        }
      ]
    },
    {
      "cell_type": "code",
      "source": [
        "#9. Convert Celsius to Fahrenheit using map()\n",
        "\n",
        "celsius_temperatures = [0, 10, 20, 30, 40]\n",
        "fahrenheit_temperatures = list(map(lambda c: (c * 9/5) + 32, celsius_temperatures))\n",
        "print(fahrenheit_temperatures)"
      ],
      "metadata": {
        "colab": {
          "base_uri": "https://localhost:8080/"
        },
        "id": "Bkd3sgft7j2V",
        "outputId": "8983edad-4397-4728-88a2-19bc5a4b4f91"
      },
      "execution_count": null,
      "outputs": [
        {
          "output_type": "stream",
          "name": "stdout",
          "text": [
            "[32.0, 50.0, 68.0, 86.0, 104.0]\n"
          ]
        }
      ]
    },
    {
      "cell_type": "code",
      "source": [
        "#10. Remove Vowels Using filter()\n",
        "def remove_vowels(s):\n",
        "    return ''.join(filter(lambda x: x.lower() not in 'aeiou', s))\n",
        "\n",
        "# Example\n",
        "print(remove_vowels(\"Hello World\"))  # Output: \"Hll Wrld\"\n"
      ],
      "metadata": {
        "colab": {
          "base_uri": "https://localhost:8080/"
        },
        "id": "P5B3R84676LD",
        "outputId": "2a0c7f4b-baaa-468c-f61f-fa7f898cf7fd"
      },
      "execution_count": null,
      "outputs": [
        {
          "output_type": "stream",
          "name": "stdout",
          "text": [
            "Hll Wrld\n"
          ]
        }
      ]
    },
    {
      "cell_type": "code",
      "source": [
        "#11. Bookshop Accounting Program using lambda and map()\n",
        "orders = [\n",
        "    [101, \"Book A\", 2, 30.0],   # 2 × 30 = 60 < 100 → +10 = 70\n",
        "    [102, \"Book B\", 1, 120.0],  # 1 × 120 = 120 > 100 → no extra\n",
        "    [103, \"Book C\", 3, 20.0],   # 3 × 20 = 60 < 100 → +10 = 70\n",
        "]\n",
        "\n",
        "final = list(map(lambda order: (\n",
        "    order[0],\n",
        "    order[2] * order[3] + (10 if order[2] * order[3] < 100 else 0)\n",
        "), orders))\n",
        "\n",
        "print(final)\n",
        "# Output: [(101, 70.0), (102, 120.0), (103, 70.0)]\n",
        "\n"
      ],
      "metadata": {
        "colab": {
          "base_uri": "https://localhost:8080/"
        },
        "id": "p6amj7C-8BP6",
        "outputId": "f5718903-e76f-4c07-b3b3-c03b00be5e51"
      },
      "execution_count": null,
      "outputs": [
        {
          "output_type": "stream",
          "name": "stdout",
          "text": [
            "[(101, 70.0), (102, 120.0), (103, 70.0)]\n"
          ]
        }
      ]
    }
  ]
}